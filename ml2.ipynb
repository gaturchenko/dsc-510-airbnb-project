{
 "cells": [
  {
   "cell_type": "markdown",
   "metadata": {},
   "source": [
    "To get started you need to install all the necessary project dependencies. You can do it by running the cell below. Exclamation mark means that terminal command shall be executed in the cell"
   ]
  },
  {
   "cell_type": "code",
   "execution_count": 1,
   "metadata": {},
   "outputs": [
    {
     "name": "stdout",
     "output_type": "stream",
     "text": [
      "Collecting matplotlib==3.6.1\n",
      "  Using cached matplotlib-3.6.1-cp39-cp39-win_amd64.whl (7.2 MB)\n",
      "Collecting numpy==1.21.0\n",
      "  Using cached numpy-1.21.0-cp39-cp39-win_amd64.whl (14.0 MB)\n",
      "Requirement already satisfied: optuna==3.0.3 in c:\\users\\andre\\anaconda3\\lib\\site-packages (from -r requirements.txt (line 3)) (3.0.3)\n",
      "Requirement already satisfied: pandas==1.4.2 in c:\\users\\andre\\anaconda3\\lib\\site-packages (from -r requirements.txt (line 4)) (1.4.2)\n",
      "Requirement already satisfied: scikit_learn==1.1.3 in c:\\users\\andre\\anaconda3\\lib\\site-packages (from -r requirements.txt (line 5)) (1.1.3)\n",
      "Requirement already satisfied: scipy==1.8.1 in c:\\users\\andre\\anaconda3\\lib\\site-packages (from -r requirements.txt (line 6)) (1.8.1)"
     ]
    },
    {
     "name": "stderr",
     "output_type": "stream",
     "text": [
      "WARNING: Ignoring invalid distribution -illow (c:\\users\\andre\\anaconda3\\lib\\site-packages)\n",
      "WARNING: Ignoring invalid distribution -atplotlib (c:\\users\\andre\\anaconda3\\lib\\site-packages)\n",
      "WARNING: Ignoring invalid distribution -illow (c:\\users\\andre\\anaconda3\\lib\\site-packages)\n",
      "WARNING: Ignoring invalid distribution -atplotlib (c:\\users\\andre\\anaconda3\\lib\\site-packages)\n",
      "WARNING: Ignoring invalid distribution -illow (c:\\users\\andre\\anaconda3\\lib\\site-packages)\n",
      "WARNING: Ignoring invalid distribution -atplotlib (c:\\users\\andre\\anaconda3\\lib\\site-packages)\n",
      "    WARNING: Ignoring invalid distribution -illow (c:\\users\\andre\\anaconda3\\lib\\site-packages)\n",
      "    WARNING: Ignoring invalid distribution -atplotlib (c:\\users\\andre\\anaconda3\\lib\\site-packages)\n",
      "ERROR: Could not install packages due to an OSError: [WinError 5] Access is denied: 'C:\\\\Users\\\\andre\\\\anaconda3\\\\Lib\\\\site-packages\\\\numpy\\\\.libs\\\\libopenblas.GK7GX5KEQ4F6UYO3P26ULGBQYHGQO7J4.gfortran-win_amd64.dll'\n",
      "Consider using the `--user` option or check the permissions.\n",
      "\n",
      "WARNING: Ignoring invalid distribution -illow (c:\\users\\andre\\anaconda3\\lib\\site-packages)\n",
      "WARNING: Ignoring invalid distribution -atplotlib (c:\\users\\andre\\anaconda3\\lib\\site-packages)\n",
      "WARNING: Ignoring invalid distribution -illow (c:\\users\\andre\\anaconda3\\lib\\site-packages)\n",
      "WARNING: Ignoring invalid distribution -atplotlib (c:\\users\\andre\\anaconda3\\lib\\site-packages)\n",
      "WARNING: Ignoring invalid distribution -illow (c:\\users\\andre\\anaconda3\\lib\\site-packages)\n",
      "WARNING: Ignoring invalid distribution -atplotlib (c:\\users\\andre\\anaconda3\\lib\\site-packages)\n"
     ]
    },
    {
     "name": "stdout",
     "output_type": "stream",
     "text": [
      "\n",
      "Requirement already satisfied: kiwisolver>=1.0.1 in c:\\users\\andre\\anaconda3\\lib\\site-packages (from matplotlib==3.6.1->-r requirements.txt (line 1)) (1.4.4)\n",
      "Requirement already satisfied: contourpy>=1.0.1 in c:\\users\\andre\\anaconda3\\lib\\site-packages (from matplotlib==3.6.1->-r requirements.txt (line 1)) (1.0.6)\n",
      "Requirement already satisfied: pillow>=6.2.0 in c:\\users\\andre\\anaconda3\\lib\\site-packages (from matplotlib==3.6.1->-r requirements.txt (line 1)) (9.3.0)\n",
      "Requirement already satisfied: packaging>=20.0 in c:\\users\\andre\\anaconda3\\lib\\site-packages (from matplotlib==3.6.1->-r requirements.txt (line 1)) (21.3)\n",
      "Requirement already satisfied: cycler>=0.10 in c:\\users\\andre\\anaconda3\\lib\\site-packages (from matplotlib==3.6.1->-r requirements.txt (line 1)) (0.11.0)\n",
      "Requirement already satisfied: fonttools>=4.22.0 in c:\\users\\andre\\anaconda3\\lib\\site-packages (from matplotlib==3.6.1->-r requirements.txt (line 1)) (4.25.0)\n",
      "Requirement already satisfied: pyparsing>=2.2.1 in c:\\users\\andre\\anaconda3\\lib\\site-packages (from matplotlib==3.6.1->-r requirements.txt (line 1)) (3.0.9)\n",
      "Requirement already satisfied: python-dateutil>=2.7 in c:\\users\\andre\\anaconda3\\lib\\site-packages (from matplotlib==3.6.1->-r requirements.txt (line 1)) (2.8.2)\n",
      "Requirement already satisfied: colorlog in c:\\users\\andre\\anaconda3\\lib\\site-packages (from optuna==3.0.3->-r requirements.txt (line 3)) (6.7.0)\n",
      "Requirement already satisfied: importlib-metadata<5.0.0 in c:\\users\\andre\\anaconda3\\lib\\site-packages (from optuna==3.0.3->-r requirements.txt (line 3)) (4.11.3)\n",
      "Requirement already satisfied: sqlalchemy>=1.3.0 in c:\\users\\andre\\anaconda3\\lib\\site-packages (from optuna==3.0.3->-r requirements.txt (line 3)) (1.4.32)\n",
      "Requirement already satisfied: alembic>=1.5.0 in c:\\users\\andre\\anaconda3\\lib\\site-packages (from optuna==3.0.3->-r requirements.txt (line 3)) (1.8.1)\n",
      "Requirement already satisfied: cliff in c:\\users\\andre\\anaconda3\\lib\\site-packages (from optuna==3.0.3->-r requirements.txt (line 3)) (4.0.0)\n",
      "Requirement already satisfied: tqdm in c:\\users\\andre\\anaconda3\\lib\\site-packages (from optuna==3.0.3->-r requirements.txt (line 3)) (4.64.0)\n",
      "Requirement already satisfied: PyYAML in c:\\users\\andre\\anaconda3\\lib\\site-packages (from optuna==3.0.3->-r requirements.txt (line 3)) (6.0)\n",
      "Requirement already satisfied: cmaes>=0.8.2 in c:\\users\\andre\\anaconda3\\lib\\site-packages (from optuna==3.0.3->-r requirements.txt (line 3)) (0.8.2)\n",
      "Requirement already satisfied: pytz>=2020.1 in c:\\users\\andre\\anaconda3\\lib\\site-packages (from pandas==1.4.2->-r requirements.txt (line 4)) (2021.3)\n",
      "Requirement already satisfied: threadpoolctl>=2.0.0 in c:\\users\\andre\\anaconda3\\lib\\site-packages (from scikit_learn==1.1.3->-r requirements.txt (line 5)) (2.2.0)\n",
      "Requirement already satisfied: joblib>=1.0.0 in c:\\users\\andre\\anaconda3\\lib\\site-packages (from scikit_learn==1.1.3->-r requirements.txt (line 5)) (1.1.0)\n",
      "Requirement already satisfied: Mako in c:\\users\\andre\\anaconda3\\lib\\site-packages (from alembic>=1.5.0->optuna==3.0.3->-r requirements.txt (line 3)) (1.2.3)\n",
      "Requirement already satisfied: zipp>=0.5 in c:\\users\\andre\\anaconda3\\lib\\site-packages (from importlib-metadata<5.0.0->optuna==3.0.3->-r requirements.txt (line 3)) (3.7.0)\n",
      "Requirement already satisfied: six>=1.5 in c:\\users\\andre\\anaconda3\\lib\\site-packages (from python-dateutil>=2.7->matplotlib==3.6.1->-r requirements.txt (line 1)) (1.16.0)\n",
      "Requirement already satisfied: greenlet!=0.4.17 in c:\\users\\andre\\anaconda3\\lib\\site-packages (from sqlalchemy>=1.3.0->optuna==3.0.3->-r requirements.txt (line 3)) (1.1.1)\n",
      "Requirement already satisfied: cmd2>=1.0.0 in c:\\users\\andre\\anaconda3\\lib\\site-packages (from cliff->optuna==3.0.3->-r requirements.txt (line 3)) (2.4.2)\n",
      "Requirement already satisfied: stevedore>=2.0.1 in c:\\users\\andre\\anaconda3\\lib\\site-packages (from cliff->optuna==3.0.3->-r requirements.txt (line 3)) (4.1.0)\n",
      "Requirement already satisfied: PrettyTable>=0.7.2 in c:\\users\\andre\\anaconda3\\lib\\site-packages (from cliff->optuna==3.0.3->-r requirements.txt (line 3)) (3.5.0)\n",
      "Requirement already satisfied: autopage>=0.4.0 in c:\\users\\andre\\anaconda3\\lib\\site-packages (from cliff->optuna==3.0.3->-r requirements.txt (line 3)) (0.5.1)\n",
      "Requirement already satisfied: pyreadline3 in c:\\users\\andre\\anaconda3\\lib\\site-packages (from cmd2>=1.0.0->cliff->optuna==3.0.3->-r requirements.txt (line 3)) (3.4.1)\n",
      "Requirement already satisfied: pyperclip>=1.6 in c:\\users\\andre\\anaconda3\\lib\\site-packages (from cmd2>=1.0.0->cliff->optuna==3.0.3->-r requirements.txt (line 3)) (1.8.2)\n",
      "Requirement already satisfied: attrs>=16.3.0 in c:\\users\\andre\\anaconda3\\lib\\site-packages (from cmd2>=1.0.0->cliff->optuna==3.0.3->-r requirements.txt (line 3)) (21.4.0)\n",
      "Requirement already satisfied: wcwidth>=0.1.7 in c:\\users\\andre\\anaconda3\\lib\\site-packages (from cmd2>=1.0.0->cliff->optuna==3.0.3->-r requirements.txt (line 3)) (0.2.5)\n",
      "Requirement already satisfied: pbr!=2.1.0,>=2.0.0 in c:\\users\\andre\\anaconda3\\lib\\site-packages (from stevedore>=2.0.1->cliff->optuna==3.0.3->-r requirements.txt (line 3)) (5.11.0)\n",
      "Requirement already satisfied: colorama in c:\\users\\andre\\anaconda3\\lib\\site-packages (from colorlog->optuna==3.0.3->-r requirements.txt (line 3)) (0.4.4)\n",
      "Requirement already satisfied: MarkupSafe>=0.9.2 in c:\\users\\andre\\anaconda3\\lib\\site-packages (from Mako->alembic>=1.5.0->optuna==3.0.3->-r requirements.txt (line 3)) (2.0.1)\n",
      "Installing collected packages: numpy, matplotlib\n",
      "  Attempting uninstall: numpy\n",
      "    Found existing installation: numpy 1.21.5\n",
      "    Uninstalling numpy-1.21.5:\n",
      "      Successfully uninstalled numpy-1.21.5\n",
      "  Rolling back uninstall of numpy\n",
      "  Moving to c:\\users\\andre\\anaconda3\\lib\\site-packages\\numpy-1.21.5.dist-info\\\n",
      "   from C:\\Users\\andre\\anaconda3\\Lib\\site-packages\\~umpy-1.21.5.dist-info\n",
      "  Moving to c:\\users\\andre\\anaconda3\\lib\\site-packages\\numpy\\__config__.py\n",
      "   from C:\\Users\\andre\\AppData\\Local\\Temp\\pip-uninstall-nfdy0s9v\\__config__.py\n",
      "  Moving to c:\\users\\andre\\anaconda3\\lib\\site-packages\\numpy\\__init__.cython-30.pxd\n",
      "   from C:\\Users\\andre\\AppData\\Local\\Temp\\pip-uninstall-nfdy0s9v\\__init__.cython-30.pxd\n",
      "  Moving to c:\\users\\andre\\anaconda3\\lib\\site-packages\\numpy\\__init__.pxd\n",
      "   from C:\\Users\\andre\\AppData\\Local\\Temp\\pip-uninstall-nfdy0s9v\\__init__.pxd\n",
      "  Moving to c:\\users\\andre\\anaconda3\\lib\\site-packages\\numpy\\__init__.py\n",
      "   from C:\\Users\\andre\\AppData\\Local\\Temp\\pip-uninstall-nfdy0s9v\\__init__.py\n",
      "  Moving to c:\\users\\andre\\anaconda3\\lib\\site-packages\\numpy\\__init__.pyi\n",
      "   from C:\\Users\\andre\\AppData\\Local\\Temp\\pip-uninstall-nfdy0s9v\\__init__.pyi\n",
      "  Moving to c:\\users\\andre\\anaconda3\\lib\\site-packages\\numpy\\__pycache__\\\n",
      "   from C:\\Users\\andre\\anaconda3\\Lib\\site-packages\\numpy\\~-pycache__\n",
      "  Moving to c:\\users\\andre\\anaconda3\\lib\\site-packages\\numpy\\_distributor_init.py\n",
      "   from C:\\Users\\andre\\AppData\\Local\\Temp\\pip-uninstall-nfdy0s9v\\_distributor_init.py\n",
      "  Moving to c:\\users\\andre\\anaconda3\\lib\\site-packages\\numpy\\_globals.py\n",
      "   from C:\\Users\\andre\\AppData\\Local\\Temp\\pip-uninstall-nfdy0s9v\\_globals.py\n",
      "  Moving to c:\\users\\andre\\anaconda3\\lib\\site-packages\\numpy\\_pytesttester.py\n",
      "   from C:\\Users\\andre\\AppData\\Local\\Temp\\pip-uninstall-nfdy0s9v\\_pytesttester.py\n",
      "  Moving to c:\\users\\andre\\anaconda3\\lib\\site-packages\\numpy\\_version.py\n",
      "   from C:\\Users\\andre\\AppData\\Local\\Temp\\pip-uninstall-nfdy0s9v\\_version.py\n",
      "  Moving to c:\\users\\andre\\anaconda3\\lib\\site-packages\\numpy\\char.pyi\n",
      "   from C:\\Users\\andre\\AppData\\Local\\Temp\\pip-uninstall-nfdy0s9v\\char.pyi\n",
      "  Moving to c:\\users\\andre\\anaconda3\\lib\\site-packages\\numpy\\compat\\\n",
      "   from C:\\Users\\andre\\anaconda3\\Lib\\site-packages\\numpy\\~-mpat\n",
      "  Moving to c:\\users\\andre\\anaconda3\\lib\\site-packages\\numpy\\conftest.py\n",
      "   from C:\\Users\\andre\\AppData\\Local\\Temp\\pip-uninstall-nfdy0s9v\\conftest.py\n",
      "  Moving to c:\\users\\andre\\anaconda3\\lib\\site-packages\\numpy\\core\\__init__.py\n",
      "   from C:\\Users\\andre\\AppData\\Local\\Temp\\pip-uninstall-nfdy0s9v\\core\\__init__.py\n",
      "  Moving to c:\\users\\andre\\anaconda3\\lib\\site-packages\\numpy\\core\\__init__.pyi\n",
      "   from C:\\Users\\andre\\AppData\\Local\\Temp\\pip-uninstall-nfdy0s9v\\core\\__init__.pyi\n",
      "  Moving to c:\\users\\andre\\anaconda3\\lib\\site-packages\\numpy\\core\\__pycache__\\\n",
      "   from C:\\Users\\andre\\anaconda3\\Lib\\site-packages\\numpy\\core\\~_pycache__\n",
      "  Moving to c:\\users\\andre\\anaconda3\\lib\\site-packages\\numpy\\core\\_add_newdocs.py\n",
      "   from C:\\Users\\andre\\AppData\\Local\\Temp\\pip-uninstall-nfdy0s9v\\core\\_add_newdocs.py\n",
      "  Moving to c:\\users\\andre\\anaconda3\\lib\\site-packages\\numpy\\core\\_add_newdocs_scalars.py\n",
      "   from C:\\Users\\andre\\AppData\\Local\\Temp\\pip-uninstall-nfdy0s9v\\core\\_add_newdocs_scalars.py\n",
      "  Moving to c:\\users\\andre\\anaconda3\\lib\\site-packages\\numpy\\core\\_asarray.py\n",
      "   from C:\\Users\\andre\\AppData\\Local\\Temp\\pip-uninstall-nfdy0s9v\\core\\_asarray.py\n",
      "  Moving to c:\\users\\andre\\anaconda3\\lib\\site-packages\\numpy\\core\\_asarray.pyi\n",
      "   from C:\\Users\\andre\\AppData\\Local\\Temp\\pip-uninstall-nfdy0s9v\\core\\_asarray.pyi\n",
      "  Moving to c:\\users\\andre\\anaconda3\\lib\\site-packages\\numpy\\core\\_dtype.py\n",
      "   from C:\\Users\\andre\\AppData\\Local\\Temp\\pip-uninstall-nfdy0s9v\\core\\_dtype.py\n",
      "  Moving to c:\\users\\andre\\anaconda3\\lib\\site-packages\\numpy\\core\\_dtype_ctypes.py\n",
      "   from C:\\Users\\andre\\AppData\\Local\\Temp\\pip-uninstall-nfdy0s9v\\core\\_dtype_ctypes.py\n",
      "  Moving to c:\\users\\andre\\anaconda3\\lib\\site-packages\\numpy\\core\\_exceptions.py\n",
      "   from C:\\Users\\andre\\AppData\\Local\\Temp\\pip-uninstall-nfdy0s9v\\core\\_exceptions.py\n",
      "  Moving to c:\\users\\andre\\anaconda3\\lib\\site-packages\\numpy\\core\\_internal.py\n",
      "   from C:\\Users\\andre\\AppData\\Local\\Temp\\pip-uninstall-nfdy0s9v\\core\\_internal.py\n",
      "  Moving to c:\\users\\andre\\anaconda3\\lib\\site-packages\\numpy\\core\\_internal.pyi\n",
      "   from C:\\Users\\andre\\AppData\\Local\\Temp\\pip-uninstall-nfdy0s9v\\core\\_internal.pyi\n",
      "  Moving to c:\\users\\andre\\anaconda3\\lib\\site-packages\\numpy\\core\\_methods.py\n",
      "   from C:\\Users\\andre\\AppData\\Local\\Temp\\pip-uninstall-nfdy0s9v\\core\\_methods.py\n",
      "  Moving to c:\\users\\andre\\anaconda3\\lib\\site-packages\\numpy\\core\\_multiarray_tests.cp39-win_amd64.pyd\n",
      "   from C:\\Users\\andre\\AppData\\Local\\Temp\\pip-uninstall-nfdy0s9v\\core\\_multiarray_tests.cp39-win_amd64.pyd\n",
      "  Moving to c:\\users\\andre\\anaconda3\\lib\\site-packages\\numpy\\core\\_multiarray_umath.cp39-win_amd64.pyd\n",
      "   from C:\\Users\\andre\\AppData\\Local\\Temp\\pip-uninstall-nfdy0s9v\\core\\_multiarray_umath.cp39-win_amd64.pyd\n",
      "  Moving to c:\\users\\andre\\anaconda3\\lib\\site-packages\\numpy\\core\\_operand_flag_tests.cp39-win_amd64.pyd\n",
      "   from C:\\Users\\andre\\AppData\\Local\\Temp\\pip-uninstall-nfdy0s9v\\core\\_operand_flag_tests.cp39-win_amd64.pyd\n",
      "  Moving to c:\\users\\andre\\anaconda3\\lib\\site-packages\\numpy\\core\\_rational_tests.cp39-win_amd64.pyd\n",
      "   from C:\\Users\\andre\\AppData\\Local\\Temp\\pip-uninstall-nfdy0s9v\\core\\_rational_tests.cp39-win_amd64.pyd\n",
      "  Moving to c:\\users\\andre\\anaconda3\\lib\\site-packages\\numpy\\core\\_simd.cp39-win_amd64.pyd\n",
      "   from C:\\Users\\andre\\AppData\\Local\\Temp\\pip-uninstall-nfdy0s9v\\core\\_simd.cp39-win_amd64.pyd\n",
      "  Moving to c:\\users\\andre\\anaconda3\\lib\\site-packages\\numpy\\core\\_string_helpers.py\n",
      "   from C:\\Users\\andre\\AppData\\Local\\Temp\\pip-uninstall-nfdy0s9v\\core\\_string_helpers.py\n",
      "  Moving to c:\\users\\andre\\anaconda3\\lib\\site-packages\\numpy\\core\\_struct_ufunc_tests.cp39-win_amd64.pyd\n",
      "   from C:\\Users\\andre\\AppData\\Local\\Temp\\pip-uninstall-nfdy0s9v\\core\\_struct_ufunc_tests.cp39-win_amd64.pyd\n",
      "  Moving to c:\\users\\andre\\anaconda3\\lib\\site-packages\\numpy\\core\\_type_aliases.py\n",
      "   from C:\\Users\\andre\\AppData\\Local\\Temp\\pip-uninstall-nfdy0s9v\\core\\_type_aliases.py\n",
      "  Moving to c:\\users\\andre\\anaconda3\\lib\\site-packages\\numpy\\core\\_type_aliases.pyi\n",
      "   from C:\\Users\\andre\\AppData\\Local\\Temp\\pip-uninstall-nfdy0s9v\\core\\_type_aliases.pyi\n",
      "  Moving to c:\\users\\andre\\anaconda3\\lib\\site-packages\\numpy\\core\\_ufunc_config.py\n",
      "   from C:\\Users\\andre\\AppData\\Local\\Temp\\pip-uninstall-nfdy0s9v\\core\\_ufunc_config.py\n",
      "  Moving to c:\\users\\andre\\anaconda3\\lib\\site-packages\\numpy\\core\\_ufunc_config.pyi\n",
      "   from C:\\Users\\andre\\AppData\\Local\\Temp\\pip-uninstall-nfdy0s9v\\core\\_ufunc_config.pyi\n",
      "  Moving to c:\\users\\andre\\anaconda3\\lib\\site-packages\\numpy\\core\\_umath_tests.cp39-win_amd64.pyd\n",
      "   from C:\\Users\\andre\\AppData\\Local\\Temp\\pip-uninstall-nfdy0s9v\\core\\_umath_tests.cp39-win_amd64.pyd\n",
      "  Moving to c:\\users\\andre\\anaconda3\\lib\\site-packages\\numpy\\core\\arrayprint.py\n",
      "   from C:\\Users\\andre\\AppData\\Local\\Temp\\pip-uninstall-nfdy0s9v\\core\\arrayprint.py\n",
      "  Moving to c:\\users\\andre\\anaconda3\\lib\\site-packages\\numpy\\core\\arrayprint.pyi\n",
      "   from C:\\Users\\andre\\AppData\\Local\\Temp\\pip-uninstall-nfdy0s9v\\core\\arrayprint.pyi\n",
      "  Moving to c:\\users\\andre\\anaconda3\\lib\\site-packages\\numpy\\core\\cversions.py\n",
      "   from C:\\Users\\andre\\AppData\\Local\\Temp\\pip-uninstall-nfdy0s9v\\core\\cversions.py\n",
      "  Moving to c:\\users\\andre\\anaconda3\\lib\\site-packages\\numpy\\core\\defchararray.py\n",
      "   from C:\\Users\\andre\\AppData\\Local\\Temp\\pip-uninstall-nfdy0s9v\\core\\defchararray.py\n",
      "  Moving to c:\\users\\andre\\anaconda3\\lib\\site-packages\\numpy\\core\\einsumfunc.py\n",
      "   from C:\\Users\\andre\\AppData\\Local\\Temp\\pip-uninstall-nfdy0s9v\\core\\einsumfunc.py\n",
      "  Moving to c:\\users\\andre\\anaconda3\\lib\\site-packages\\numpy\\core\\einsumfunc.pyi\n",
      "   from C:\\Users\\andre\\AppData\\Local\\Temp\\pip-uninstall-nfdy0s9v\\core\\einsumfunc.pyi\n",
      "  Moving to c:\\users\\andre\\anaconda3\\lib\\site-packages\\numpy\\core\\fromnumeric.py\n",
      "   from C:\\Users\\andre\\AppData\\Local\\Temp\\pip-uninstall-nfdy0s9v\\core\\fromnumeric.py\n",
      "  Moving to c:\\users\\andre\\anaconda3\\lib\\site-packages\\numpy\\core\\fromnumeric.pyi\n",
      "   from C:\\Users\\andre\\AppData\\Local\\Temp\\pip-uninstall-nfdy0s9v\\core\\fromnumeric.pyi\n",
      "  Moving to c:\\users\\andre\\anaconda3\\lib\\site-packages\\numpy\\core\\function_base.py\n",
      "   from C:\\Users\\andre\\AppData\\Local\\Temp\\pip-uninstall-nfdy0s9v\\core\\function_base.py\n",
      "  Moving to c:\\users\\andre\\anaconda3\\lib\\site-packages\\numpy\\core\\function_base.pyi\n",
      "   from C:\\Users\\andre\\AppData\\Local\\Temp\\pip-uninstall-nfdy0s9v\\core\\function_base.pyi\n",
      "  Moving to c:\\users\\andre\\anaconda3\\lib\\site-packages\\numpy\\core\\generate_numpy_api.py\n",
      "   from C:\\Users\\andre\\AppData\\Local\\Temp\\pip-uninstall-nfdy0s9v\\core\\generate_numpy_api.py\n",
      "  Moving to c:\\users\\andre\\anaconda3\\lib\\site-packages\\numpy\\core\\getlimits.py\n",
      "   from C:\\Users\\andre\\AppData\\Local\\Temp\\pip-uninstall-nfdy0s9v\\core\\getlimits.py\n",
      "  Moving to c:\\users\\andre\\anaconda3\\lib\\site-packages\\numpy\\core\\include\\numpy\\\n",
      "   from C:\\Users\\andre\\anaconda3\\Lib\\site-packages\\numpy\\core\\include\\~-mpy\n",
      "  Moving to c:\\users\\andre\\anaconda3\\lib\\site-packages\\numpy\\core\\lib\\\n",
      "   from C:\\Users\\andre\\anaconda3\\Lib\\site-packages\\numpy\\core\\~-b\n",
      "  Moving to c:\\users\\andre\\anaconda3\\lib\\site-packages\\numpy\\core\\machar.py\n",
      "   from C:\\Users\\andre\\AppData\\Local\\Temp\\pip-uninstall-nfdy0s9v\\core\\machar.py\n",
      "  Moving to c:\\users\\andre\\anaconda3\\lib\\site-packages\\numpy\\core\\memmap.py\n",
      "   from C:\\Users\\andre\\AppData\\Local\\Temp\\pip-uninstall-nfdy0s9v\\core\\memmap.py\n",
      "  Moving to c:\\users\\andre\\anaconda3\\lib\\site-packages\\numpy\\core\\multiarray.py\n",
      "   from C:\\Users\\andre\\AppData\\Local\\Temp\\pip-uninstall-nfdy0s9v\\core\\multiarray.py\n",
      "  Moving to c:\\users\\andre\\anaconda3\\lib\\site-packages\\numpy\\core\\numeric.py\n",
      "   from C:\\Users\\andre\\AppData\\Local\\Temp\\pip-uninstall-nfdy0s9v\\core\\numeric.py\n",
      "  Moving to c:\\users\\andre\\anaconda3\\lib\\site-packages\\numpy\\core\\numeric.pyi\n",
      "   from C:\\Users\\andre\\AppData\\Local\\Temp\\pip-uninstall-nfdy0s9v\\core\\numeric.pyi\n",
      "  Moving to c:\\users\\andre\\anaconda3\\lib\\site-packages\\numpy\\core\\numerictypes.py\n",
      "   from C:\\Users\\andre\\AppData\\Local\\Temp\\pip-uninstall-nfdy0s9v\\core\\numerictypes.py\n",
      "  Moving to c:\\users\\andre\\anaconda3\\lib\\site-packages\\numpy\\core\\numerictypes.pyi\n",
      "   from C:\\Users\\andre\\AppData\\Local\\Temp\\pip-uninstall-nfdy0s9v\\core\\numerictypes.pyi\n",
      "  Moving to c:\\users\\andre\\anaconda3\\lib\\site-packages\\numpy\\core\\overrides.py\n",
      "   from C:\\Users\\andre\\AppData\\Local\\Temp\\pip-uninstall-nfdy0s9v\\core\\overrides.py\n",
      "  Moving to c:\\users\\andre\\anaconda3\\lib\\site-packages\\numpy\\core\\records.py\n",
      "   from C:\\Users\\andre\\AppData\\Local\\Temp\\pip-uninstall-nfdy0s9v\\core\\records.py\n",
      "  Moving to c:\\users\\andre\\anaconda3\\lib\\site-packages\\numpy\\core\\setup.py\n",
      "   from C:\\Users\\andre\\AppData\\Local\\Temp\\pip-uninstall-nfdy0s9v\\core\\setup.py\n",
      "  Moving to c:\\users\\andre\\anaconda3\\lib\\site-packages\\numpy\\core\\setup_common.py\n",
      "   from C:\\Users\\andre\\AppData\\Local\\Temp\\pip-uninstall-nfdy0s9v\\core\\setup_common.py\n",
      "  Moving to c:\\users\\andre\\anaconda3\\lib\\site-packages\\numpy\\core\\shape_base.py\n",
      "   from C:\\Users\\andre\\AppData\\Local\\Temp\\pip-uninstall-nfdy0s9v\\core\\shape_base.py\n",
      "  Moving to c:\\users\\andre\\anaconda3\\lib\\site-packages\\numpy\\core\\shape_base.pyi\n",
      "   from C:\\Users\\andre\\AppData\\Local\\Temp\\pip-uninstall-nfdy0s9v\\core\\shape_base.pyi\n",
      "  Moving to c:\\users\\andre\\anaconda3\\lib\\site-packages\\numpy\\core\\tests\\__init__.py\n",
      "   from C:\\Users\\andre\\AppData\\Local\\Temp\\pip-uninstall-nfdy0s9v\\core\\tests\\__init__.py\n",
      "  Moving to c:\\users\\andre\\anaconda3\\lib\\site-packages\\numpy\\core\\tests\\__pycache__\\\n",
      "   from C:\\Users\\andre\\anaconda3\\Lib\\site-packages\\numpy\\core\\tests\\~-pycache__\n",
      "  Moving to c:\\users\\andre\\anaconda3\\lib\\site-packages\\numpy\\core\\tests\\_locales.py\n",
      "   from C:\\Users\\andre\\AppData\\Local\\Temp\\pip-uninstall-nfdy0s9v\\core\\tests\\_locales.py\n",
      "  Moving to c:\\users\\andre\\anaconda3\\lib\\site-packages\\numpy\\core\\tests\\data\\\n",
      "   from C:\\Users\\andre\\anaconda3\\Lib\\site-packages\\numpy\\core\\tests\\~-ta\n",
      "  Moving to c:\\users\\andre\\anaconda3\\lib\\site-packages\\numpy\\core\\tests\\examples\\__pycache__\\\n",
      "   from C:\\Users\\andre\\anaconda3\\Lib\\site-packages\\numpy\\core\\tests\\examples\\~_pycache__\n",
      "  Moving to c:\\users\\andre\\anaconda3\\lib\\site-packages\\numpy\\core\\tests\\examples\\checks.pyx\n",
      "   from C:\\Users\\andre\\AppData\\Local\\Temp\\pip-uninstall-nfdy0s9v\\core\\tests\\examples\\checks.pyx\n",
      "  Moving to c:\\users\\andre\\anaconda3\\lib\\site-packages\\numpy\\core\\tests\\examples\\setup.py\n",
      "   from C:\\Users\\andre\\AppData\\Local\\Temp\\pip-uninstall-nfdy0s9v\\core\\tests\\examples\\setup.py\n",
      "  Moving to c:\\users\\andre\\anaconda3\\lib\\site-packages\\numpy\\core\\tests\\test__exceptions.py\n",
      "   from C:\\Users\\andre\\AppData\\Local\\Temp\\pip-uninstall-nfdy0s9v\\core\\tests\\test__exceptions.py\n",
      "  Moving to c:\\users\\andre\\anaconda3\\lib\\site-packages\\numpy\\core\\tests\\test_abc.py\n",
      "   from C:\\Users\\andre\\AppData\\Local\\Temp\\pip-uninstall-nfdy0s9v\\core\\tests\\test_abc.py\n",
      "  Moving to c:\\users\\andre\\anaconda3\\lib\\site-packages\\numpy\\core\\tests\\test_api.py\n",
      "   from C:\\Users\\andre\\AppData\\Local\\Temp\\pip-uninstall-nfdy0s9v\\core\\tests\\test_api.py\n",
      "  Moving to c:\\users\\andre\\anaconda3\\lib\\site-packages\\numpy\\core\\tests\\test_argparse.py\n",
      "   from C:\\Users\\andre\\AppData\\Local\\Temp\\pip-uninstall-nfdy0s9v\\core\\tests\\test_argparse.py\n",
      "  Moving to c:\\users\\andre\\anaconda3\\lib\\site-packages\\numpy\\core\\tests\\test_array_coercion.py\n",
      "   from C:\\Users\\andre\\AppData\\Local\\Temp\\pip-uninstall-nfdy0s9v\\core\\tests\\test_array_coercion.py\n",
      "  Moving to c:\\users\\andre\\anaconda3\\lib\\site-packages\\numpy\\core\\tests\\test_arraymethod.py\n",
      "   from C:\\Users\\andre\\AppData\\Local\\Temp\\pip-uninstall-nfdy0s9v\\core\\tests\\test_arraymethod.py\n",
      "  Moving to c:\\users\\andre\\anaconda3\\lib\\site-packages\\numpy\\core\\tests\\test_arrayprint.py\n",
      "   from C:\\Users\\andre\\AppData\\Local\\Temp\\pip-uninstall-nfdy0s9v\\core\\tests\\test_arrayprint.py\n",
      "  Moving to c:\\users\\andre\\anaconda3\\lib\\site-packages\\numpy\\core\\tests\\test_casting_unittests.py\n",
      "   from C:\\Users\\andre\\AppData\\Local\\Temp\\pip-uninstall-nfdy0s9v\\core\\tests\\test_casting_unittests.py\n",
      "  Moving to c:\\users\\andre\\anaconda3\\lib\\site-packages\\numpy\\core\\tests\\test_conversion_utils.py\n",
      "   from C:\\Users\\andre\\AppData\\Local\\Temp\\pip-uninstall-nfdy0s9v\\core\\tests\\test_conversion_utils.py\n",
      "  Moving to c:\\users\\andre\\anaconda3\\lib\\site-packages\\numpy\\core\\tests\\test_cpu_dispatcher.py\n",
      "   from C:\\Users\\andre\\AppData\\Local\\Temp\\pip-uninstall-nfdy0s9v\\core\\tests\\test_cpu_dispatcher.py\n",
      "  Moving to c:\\users\\andre\\anaconda3\\lib\\site-packages\\numpy\\core\\tests\\test_cpu_features.py\n",
      "   from C:\\Users\\andre\\AppData\\Local\\Temp\\pip-uninstall-nfdy0s9v\\core\\tests\\test_cpu_features.py\n",
      "  Moving to c:\\users\\andre\\anaconda3\\lib\\site-packages\\numpy\\core\\tests\\test_cython.py\n",
      "   from C:\\Users\\andre\\AppData\\Local\\Temp\\pip-uninstall-nfdy0s9v\\core\\tests\\test_cython.py\n",
      "  Moving to c:\\users\\andre\\anaconda3\\lib\\site-packages\\numpy\\core\\tests\\test_datetime.py\n",
      "   from C:\\Users\\andre\\AppData\\Local\\Temp\\pip-uninstall-nfdy0s9v\\core\\tests\\test_datetime.py\n",
      "  Moving to c:\\users\\andre\\anaconda3\\lib\\site-packages\\numpy\\core\\tests\\test_defchararray.py\n",
      "   from C:\\Users\\andre\\AppData\\Local\\Temp\\pip-uninstall-nfdy0s9v\\core\\tests\\test_defchararray.py\n",
      "  Moving to c:\\users\\andre\\anaconda3\\lib\\site-packages\\numpy\\core\\tests\\test_deprecations.py\n",
      "   from C:\\Users\\andre\\AppData\\Local\\Temp\\pip-uninstall-nfdy0s9v\\core\\tests\\test_deprecations.py\n",
      "  Moving to c:\\users\\andre\\anaconda3\\lib\\site-packages\\numpy\\core\\tests\\test_dtype.py\n",
      "   from C:\\Users\\andre\\AppData\\Local\\Temp\\pip-uninstall-nfdy0s9v\\core\\tests\\test_dtype.py\n",
      "  Moving to c:\\users\\andre\\anaconda3\\lib\\site-packages\\numpy\\core\\tests\\test_einsum.py\n",
      "   from C:\\Users\\andre\\AppData\\Local\\Temp\\pip-uninstall-nfdy0s9v\\core\\tests\\test_einsum.py\n",
      "  Moving to c:\\users\\andre\\anaconda3\\lib\\site-packages\\numpy\\core\\tests\\test_errstate.py\n",
      "   from C:\\Users\\andre\\AppData\\Local\\Temp\\pip-uninstall-nfdy0s9v\\core\\tests\\test_errstate.py\n",
      "  Moving to c:\\users\\andre\\anaconda3\\lib\\site-packages\\numpy\\core\\tests\\test_extint128.py\n",
      "   from C:\\Users\\andre\\AppData\\Local\\Temp\\pip-uninstall-nfdy0s9v\\core\\tests\\test_extint128.py\n",
      "  Moving to c:\\users\\andre\\anaconda3\\lib\\site-packages\\numpy\\core\\tests\\test_function_base.py\n",
      "   from C:\\Users\\andre\\AppData\\Local\\Temp\\pip-uninstall-nfdy0s9v\\core\\tests\\test_function_base.py\n",
      "  Moving to c:\\users\\andre\\anaconda3\\lib\\site-packages\\numpy\\core\\tests\\test_getlimits.py\n",
      "   from C:\\Users\\andre\\AppData\\Local\\Temp\\pip-uninstall-nfdy0s9v\\core\\tests\\test_getlimits.py\n",
      "  Moving to c:\\users\\andre\\anaconda3\\lib\\site-packages\\numpy\\core\\tests\\test_half.py\n",
      "   from C:\\Users\\andre\\AppData\\Local\\Temp\\pip-uninstall-nfdy0s9v\\core\\tests\\test_half.py\n",
      "  Moving to c:\\users\\andre\\anaconda3\\lib\\site-packages\\numpy\\core\\tests\\test_indexerrors.py\n",
      "   from C:\\Users\\andre\\AppData\\Local\\Temp\\pip-uninstall-nfdy0s9v\\core\\tests\\test_indexerrors.py\n",
      "  Moving to c:\\users\\andre\\anaconda3\\lib\\site-packages\\numpy\\core\\tests\\test_indexing.py\n",
      "   from C:\\Users\\andre\\AppData\\Local\\Temp\\pip-uninstall-nfdy0s9v\\core\\tests\\test_indexing.py\n",
      "  Moving to c:\\users\\andre\\anaconda3\\lib\\site-packages\\numpy\\core\\tests\\test_item_selection.py\n",
      "   from C:\\Users\\andre\\AppData\\Local\\Temp\\pip-uninstall-nfdy0s9v\\core\\tests\\test_item_selection.py\n",
      "  Moving to c:\\users\\andre\\anaconda3\\lib\\site-packages\\numpy\\core\\tests\\test_longdouble.py\n",
      "   from C:\\Users\\andre\\AppData\\Local\\Temp\\pip-uninstall-nfdy0s9v\\core\\tests\\test_longdouble.py\n",
      "  Moving to c:\\users\\andre\\anaconda3\\lib\\site-packages\\numpy\\core\\tests\\test_machar.py\n",
      "   from C:\\Users\\andre\\AppData\\Local\\Temp\\pip-uninstall-nfdy0s9v\\core\\tests\\test_machar.py\n"
     ]
    }
   ],
   "source": [
    "! pip install -r requirements.txt"
   ]
  },
  {
   "cell_type": "code",
   "execution_count": 2,
   "metadata": {},
   "outputs": [
    {
     "name": "stdout",
     "output_type": "stream",
     "text": [
      "  Moving to c:\\users\\andre\\anaconda3\\lib\\site-packages\\numpy\\core\\tests\\test_mem_overlap.py\n",
      "   from C:\\Users\\andre\\AppData\\Local\\Temp\\pip-uninstall-nfdy0s9v\\core\\tests\\test_mem_overlap.py\n",
      "  Moving to c:\\users\\andre\\anaconda3\\lib\\site-packages\\numpy\\core\\tests\\test_memmap.py\n",
      "   from C:\\Users\\andre\\AppData\\Local\\Temp\\pip-uninstall-nfdy0s9v\\core\\tests\\test_memmap.py\n",
      "  Moving to c:\\users\\andre\\anaconda3\\lib\\site-packages\\numpy\\core\\tests\\test_multiarray.py\n",
      "   from C:\\Users\\andre\\AppData\\Local\\Temp\\pip-uninstall-nfdy0s9v\\core\\tests\\test_multiarray.py\n",
      "  Moving to c:\\users\\andre\\anaconda3\\lib\\site-packages\\numpy\\core\\tests\\test_nditer.py\n",
      "   from C:\\Users\\andre\\AppData\\Local\\Temp\\pip-uninstall-nfdy0s9v\\core\\tests\\test_nditer.py\n",
      "  Moving to c:\\users\\andre\\anaconda3\\lib\\site-packages\\numpy\\core\\tests\\test_numeric.py\n",
      "   from C:\\Users\\andre\\AppData\\Local\\Temp\\pip-uninstall-nfdy0s9v\\core\\tests\\test_numeric.py\n",
      "  Moving to c:\\users\\andre\\anaconda3\\lib\\site-packages\\numpy\\core\\tests\\test_numerictypes.py\n",
      "   from C:\\Users\\andre\\AppData\\Local\\Temp\\pip-uninstall-nfdy0s9v\\core\\tests\\test_numerictypes.py\n",
      "  Moving to c:\\users\\andre\\anaconda3\\lib\\site-packages\\numpy\\core\\tests\\test_overrides.py\n",
      "   from C:\\Users\\andre\\AppData\\Local\\Temp\\pip-uninstall-nfdy0s9v\\core\\tests\\test_overrides.py\n",
      "  Moving to c:\\users\\andre\\anaconda3\\lib\\site-packages\\numpy\\core\\tests\\test_print.py\n",
      "   from C:\\Users\\andre\\AppData\\Local\\Temp\\pip-uninstall-nfdy0s9v\\core\\tests\\test_print.py\n",
      "  Moving to c:\\users\\andre\\anaconda3\\lib\\site-packages\\numpy\\core\\tests\\test_protocols.py\n",
      "   from C:\\Users\\andre\\AppData\\Local\\Temp\\pip-uninstall-nfdy0s9v\\core\\tests\\test_protocols.py\n",
      "  Moving to c:\\users\\andre\\anaconda3\\lib\\site-packages\\numpy\\core\\tests\\test_records.py\n",
      "   from C:\\Users\\andre\\AppData\\Local\\Temp\\pip-uninstall-nfdy0s9v\\core\\tests\\test_records.py\n",
      "  Moving to c:\\users\\andre\\anaconda3\\lib\\site-packages\\numpy\\core\\tests\\test_regression.py\n",
      "   from C:\\Users\\andre\\AppData\\Local\\Temp\\pip-uninstall-nfdy0s9v\\core\\tests\\test_regression.py\n",
      "  Moving to c:\\users\\andre\\anaconda3\\lib\\site-packages\\numpy\\core\\tests\\test_scalar_ctors.py\n",
      "   from C:\\Users\\andre\\AppData\\Local\\Temp\\pip-uninstall-nfdy0s9v\\core\\tests\\test_scalar_ctors.py\n",
      "  Moving to c:\\users\\andre\\anaconda3\\lib\\site-packages\\numpy\\core\\tests\\test_scalar_methods.py\n",
      "   from C:\\Users\\andre\\AppData\\Local\\Temp\\pip-uninstall-nfdy0s9v\\core\\tests\\test_scalar_methods.py\n",
      "  Moving to c:\\users\\andre\\anaconda3\\lib\\site-packages\\numpy\\core\\tests\\test_scalarbuffer.py\n",
      "   from C:\\Users\\andre\\AppData\\Local\\Temp\\pip-uninstall-nfdy0s9v\\core\\tests\\test_scalarbuffer.py\n",
      "  Moving to c:\\users\\andre\\anaconda3\\lib\\site-packages\\numpy\\core\\tests\\test_scalarinherit.py\n",
      "   from C:\\Users\\andre\\AppData\\Local\\Temp\\pip-uninstall-nfdy0s9v\\core\\tests\\test_scalarinherit.py\n",
      "  Moving to c:\\users\\andre\\anaconda3\\lib\\site-packages\\numpy\\core\\tests\\test_scalarmath.py\n",
      "   from C:\\Users\\andre\\AppData\\Local\\Temp\\pip-uninstall-nfdy0s9v\\core\\tests\\test_scalarmath.py\n",
      "  Moving to c:\\users\\andre\\anaconda3\\lib\\site-packages\\numpy\\core\\tests\\test_scalarprint.py\n",
      "   from C:\\Users\\andre\\AppData\\Local\\Temp\\pip-uninstall-nfdy0s9v\\core\\tests\\test_scalarprint.py\n",
      "  Moving to c:\\users\\andre\\anaconda3\\lib\\site-packages\\numpy\\core\\tests\\test_shape_base.py\n",
      "   from C:\\Users\\andre\\AppData\\Local\\Temp\\pip-uninstall-nfdy0s9v\\core\\tests\\test_shape_base.py\n",
      "  Moving to c:\\users\\andre\\anaconda3\\lib\\site-packages\\numpy\\core\\tests\\test_simd.py\n",
      "   from C:\\Users\\andre\\AppData\\Local\\Temp\\pip-uninstall-nfdy0s9v\\core\\tests\\test_simd.py\n",
      "  Moving to c:\\users\\andre\\anaconda3\\lib\\site-packages\\numpy\\core\\tests\\test_simd_module.py\n",
      "   from C:\\Users\\andre\\AppData\\Local\\Temp\\pip-uninstall-nfdy0s9v\\core\\tests\\test_simd_module.py\n",
      "  Moving to c:\\users\\andre\\anaconda3\\lib\\site-packages\\numpy\\core\\tests\\test_ufunc.py\n",
      "   from C:\\Users\\andre\\AppData\\Local\\Temp\\pip-uninstall-nfdy0s9v\\core\\tests\\test_ufunc.py\n",
      "  Moving to c:\\users\\andre\\anaconda3\\lib\\site-packages\\numpy\\core\\tests\\test_umath.py\n",
      "   from C:\\Users\\andre\\AppData\\Local\\Temp\\pip-uninstall-nfdy0s9v\\core\\tests\\test_umath.py\n",
      "  Moving to c:\\users\\andre\\anaconda3\\lib\\site-packages\\numpy\\core\\tests\\test_umath_accuracy.py\n",
      "   from C:\\Users\\andre\\AppData\\Local\\Temp\\pip-uninstall-nfdy0s9v\\core\\tests\\test_umath_accuracy.py\n",
      "  Moving to c:\\users\\andre\\anaconda3\\lib\\site-packages\\numpy\\core\\tests\\test_umath_complex.py\n",
      "   from C:\\Users\\andre\\AppData\\Local\\Temp\\pip-uninstall-nfdy0s9v\\core\\tests\\test_umath_complex.py\n",
      "  Moving to c:\\users\\andre\\anaconda3\\lib\\site-packages\\numpy\\core\\tests\\test_unicode.py\n",
      "   from C:\\Users\\andre\\AppData\\Local\\Temp\\pip-uninstall-nfdy0s9v\\core\\tests\\test_unicode.py\n",
      "  Moving to c:\\users\\andre\\anaconda3\\lib\\site-packages\\numpy\\core\\umath.py\n",
      "   from C:\\Users\\andre\\AppData\\Local\\Temp\\pip-uninstall-nfdy0s9v\\core\\umath.py\n",
      "  Moving to c:\\users\\andre\\anaconda3\\lib\\site-packages\\numpy\\core\\umath_tests.py\n",
      "   from C:\\Users\\andre\\AppData\\Local\\Temp\\pip-uninstall-nfdy0s9v\\core\\umath_tests.py\n",
      "  Moving to c:\\users\\andre\\anaconda3\\lib\\site-packages\\numpy\\ctypeslib.py\n",
      "   from C:\\Users\\andre\\AppData\\Local\\Temp\\pip-uninstall-nfdy0s9v\\ctypeslib.py\n",
      "  Moving to c:\\users\\andre\\anaconda3\\lib\\site-packages\\numpy\\ctypeslib.pyi\n",
      "   from C:\\Users\\andre\\AppData\\Local\\Temp\\pip-uninstall-nfdy0s9v\\ctypeslib.pyi\n",
      "  Moving to c:\\users\\andre\\anaconda3\\lib\\site-packages\\numpy\\distutils\\__config__.py\n",
      "   from C:\\Users\\andre\\AppData\\Local\\Temp\\pip-uninstall-nfdy0s9v\\distutils\\__config__.py\n",
      "  Moving to c:\\users\\andre\\anaconda3\\lib\\site-packages\\numpy\\distutils\\__init__.py\n",
      "   from C:\\Users\\andre\\AppData\\Local\\Temp\\pip-uninstall-nfdy0s9v\\distutils\\__init__.py\n",
      "  Moving to c:\\users\\andre\\anaconda3\\lib\\site-packages\\numpy\\distutils\\__init__.pyi\n",
      "   from C:\\Users\\andre\\AppData\\Local\\Temp\\pip-uninstall-nfdy0s9v\\distutils\\__init__.pyi\n",
      "  Moving to c:\\users\\andre\\anaconda3\\lib\\site-packages\\numpy\\distutils\\__pycache__\\\n",
      "   from C:\\Users\\andre\\anaconda3\\Lib\\site-packages\\numpy\\distutils\\~-pycache__\n",
      "  Moving to c:\\users\\andre\\anaconda3\\lib\\site-packages\\numpy\\distutils\\_shell_utils.py\n",
      "   from C:\\Users\\andre\\AppData\\Local\\Temp\\pip-uninstall-nfdy0s9v\\distutils\\_shell_utils.py\n",
      "  Moving to c:\\users\\andre\\anaconda3\\lib\\site-packages\\numpy\\distutils\\ccompiler.py\n",
      "   from C:\\Users\\andre\\AppData\\Local\\Temp\\pip-uninstall-nfdy0s9v\\distutils\\ccompiler.py\n",
      "  Moving to c:\\users\\andre\\anaconda3\\lib\\site-packages\\numpy\\distutils\\ccompiler_opt.py\n",
      "   from C:\\Users\\andre\\AppData\\Local\\Temp\\pip-uninstall-nfdy0s9v\\distutils\\ccompiler_opt.py\n",
      "  Moving to c:\\users\\andre\\anaconda3\\lib\\site-packages\\numpy\\distutils\\checks\\\n",
      "   from C:\\Users\\andre\\anaconda3\\Lib\\site-packages\\numpy\\distutils\\~-ecks\n",
      "  Moving to c:\\users\\andre\\anaconda3\\lib\\site-packages\\numpy\\distutils\\command\\\n",
      "   from C:\\Users\\andre\\anaconda3\\Lib\\site-packages\\numpy\\distutils\\~-mmand\n",
      "  Moving to c:\\users\\andre\\anaconda3\\lib\\site-packages\\numpy\\distutils\\conv_template.py\n",
      "   from C:\\Users\\andre\\AppData\\Local\\Temp\\pip-uninstall-nfdy0s9v\\distutils\\conv_template.py\n",
      "  Moving to c:\\users\\andre\\anaconda3\\lib\\site-packages\\numpy\\distutils\\core.py\n",
      "   from C:\\Users\\andre\\AppData\\Local\\Temp\\pip-uninstall-nfdy0s9v\\distutils\\core.py\n",
      "  Moving to c:\\users\\andre\\anaconda3\\lib\\site-packages\\numpy\\distutils\\cpuinfo.py\n",
      "   from C:\\Users\\andre\\AppData\\Local\\Temp\\pip-uninstall-nfdy0s9v\\distutils\\cpuinfo.py\n",
      "  Moving to c:\\users\\andre\\anaconda3\\lib\\site-packages\\numpy\\distutils\\exec_command.py\n",
      "   from C:\\Users\\andre\\AppData\\Local\\Temp\\pip-uninstall-nfdy0s9v\\distutils\\exec_command.py\n",
      "  Moving to c:\\users\\andre\\anaconda3\\lib\\site-packages\\numpy\\distutils\\extension.py\n",
      "   from C:\\Users\\andre\\AppData\\Local\\Temp\\pip-uninstall-nfdy0s9v\\distutils\\extension.py\n",
      "  Moving to c:\\users\\andre\\anaconda3\\lib\\site-packages\\numpy\\distutils\\fcompiler\\\n",
      "   from C:\\Users\\andre\\anaconda3\\Lib\\site-packages\\numpy\\distutils\\~-ompiler\n",
      "  Moving to c:\\users\\andre\\anaconda3\\lib\\site-packages\\numpy\\distutils\\from_template.py\n",
      "   from C:\\Users\\andre\\AppData\\Local\\Temp\\pip-uninstall-nfdy0s9v\\distutils\\from_template.py\n",
      "  Moving to c:\\users\\andre\\anaconda3\\lib\\site-packages\\numpy\\distutils\\intelccompiler.py\n",
      "   from C:\\Users\\andre\\AppData\\Local\\Temp\\pip-uninstall-nfdy0s9v\\distutils\\intelccompiler.py\n",
      "  Moving to c:\\users\\andre\\anaconda3\\lib\\site-packages\\numpy\\distutils\\lib2def.py\n",
      "   from C:\\Users\\andre\\AppData\\Local\\Temp\\pip-uninstall-nfdy0s9v\\distutils\\lib2def.py\n",
      "  Moving to c:\\users\\andre\\anaconda3\\lib\\site-packages\\numpy\\distutils\\line_endings.py\n",
      "   from C:\\Users\\andre\\AppData\\Local\\Temp\\pip-uninstall-nfdy0s9v\\distutils\\line_endings.py\n",
      "  Moving to c:\\users\\andre\\anaconda3\\lib\\site-packages\\numpy\\distutils\\log.py\n",
      "   from C:\\Users\\andre\\AppData\\Local\\Temp\\pip-uninstall-nfdy0s9v\\distutils\\log.py\n",
      "  Moving to c:\\users\\andre\\anaconda3\\lib\\site-packages\\numpy\\distutils\\mingw32ccompiler.py\n",
      "   from C:\\Users\\andre\\AppData\\Local\\Temp\\pip-uninstall-nfdy0s9v\\distutils\\mingw32ccompiler.py\n",
      "  Moving to c:\\users\\andre\\anaconda3\\lib\\site-packages\\numpy\\distutils\\mingw\\\n",
      "   from C:\\Users\\andre\\anaconda3\\Lib\\site-packages\\numpy\\distutils\\~-ngw\n",
      "  Moving to c:\\users\\andre\\anaconda3\\lib\\site-packages\\numpy\\distutils\\misc_util.py\n",
      "   from C:\\Users\\andre\\AppData\\Local\\Temp\\pip-uninstall-nfdy0s9v\\distutils\\misc_util.py\n",
      "  Moving to c:\\users\\andre\\anaconda3\\lib\\site-packages\\numpy\\distutils\\msvc9compiler.py\n",
      "   from C:\\Users\\andre\\AppData\\Local\\Temp\\pip-uninstall-nfdy0s9v\\distutils\\msvc9compiler.py\n",
      "  Moving to c:\\users\\andre\\anaconda3\\lib\\site-packages\\numpy\\distutils\\msvccompiler.py\n",
      "   from C:\\Users\\andre\\AppData\\Local\\Temp\\pip-uninstall-nfdy0s9v\\distutils\\msvccompiler.py\n",
      "  Moving to c:\\users\\andre\\anaconda3\\lib\\site-packages\\numpy\\distutils\\npy_pkg_config.py\n",
      "   from C:\\Users\\andre\\AppData\\Local\\Temp\\pip-uninstall-nfdy0s9v\\distutils\\npy_pkg_config.py\n",
      "  Moving to c:\\users\\andre\\anaconda3\\lib\\site-packages\\numpy\\distutils\\numpy_distribution.py\n",
      "   from C:\\Users\\andre\\AppData\\Local\\Temp\\pip-uninstall-nfdy0s9v\\distutils\\numpy_distribution.py\n",
      "  Moving to c:\\users\\andre\\anaconda3\\lib\\site-packages\\numpy\\distutils\\pathccompiler.py\n",
      "   from C:\\Users\\andre\\AppData\\Local\\Temp\\pip-uninstall-nfdy0s9v\\distutils\\pathccompiler.py\n",
      "  Moving to c:\\users\\andre\\anaconda3\\lib\\site-packages\\numpy\\distutils\\setup.py\n",
      "   from C:\\Users\\andre\\AppData\\Local\\Temp\\pip-uninstall-nfdy0s9v\\distutils\\setup.py\n",
      "  Moving to c:\\users\\andre\\anaconda3\\lib\\site-packages\\numpy\\distutils\\site.cfg\n",
      "   from C:\\Users\\andre\\AppData\\Local\\Temp\\pip-uninstall-nfdy0s9v\\distutils\\site.cfg\n",
      "  Moving to c:\\users\\andre\\anaconda3\\lib\\site-packages\\numpy\\distutils\\system_info.py\n",
      "   from C:\\Users\\andre\\AppData\\Local\\Temp\\pip-uninstall-nfdy0s9v\\distutils\\system_info.py\n",
      "  Moving to c:\\users\\andre\\anaconda3\\lib\\site-packages\\numpy\\distutils\\tests\\\n",
      "   from C:\\Users\\andre\\anaconda3\\Lib\\site-packages\\numpy\\distutils\\~-sts\n",
      "  Moving to c:\\users\\andre\\anaconda3\\lib\\site-packages\\numpy\\distutils\\unixccompiler.py\n",
      "   from C:\\Users\\andre\\AppData\\Local\\Temp\\pip-uninstall-nfdy0s9v\\distutils\\unixccompiler.py\n",
      "  Moving to c:\\users\\andre\\anaconda3\\lib\\site-packages\\numpy\\doc\\\n",
      "   from C:\\Users\\andre\\anaconda3\\Lib\\site-packages\\numpy\\~-c\n",
      "  Moving to c:\\users\\andre\\anaconda3\\lib\\site-packages\\numpy\\dual.py\n",
      "   from C:\\Users\\andre\\AppData\\Local\\Temp\\pip-uninstall-nfdy0s9v\\dual.py\n",
      "  Moving to c:\\users\\andre\\anaconda3\\lib\\site-packages\\numpy\\f2py\\__init__.py\n",
      "   from C:\\Users\\andre\\AppData\\Local\\Temp\\pip-uninstall-nfdy0s9v\\f2py\\__init__.py\n",
      "  Moving to c:\\users\\andre\\anaconda3\\lib\\site-packages\\numpy\\f2py\\__init__.pyi\n",
      "   from C:\\Users\\andre\\AppData\\Local\\Temp\\pip-uninstall-nfdy0s9v\\f2py\\__init__.pyi\n",
      "  Moving to c:\\users\\andre\\anaconda3\\lib\\site-packages\\numpy\\f2py\\__main__.py\n",
      "   from C:\\Users\\andre\\AppData\\Local\\Temp\\pip-uninstall-nfdy0s9v\\f2py\\__main__.py\n",
      "  Moving to c:\\users\\andre\\anaconda3\\lib\\site-packages\\numpy\\f2py\\__pycache__\\\n",
      "   from C:\\Users\\andre\\anaconda3\\Lib\\site-packages\\numpy\\f2py\\~_pycache__\n",
      "  Moving to c:\\users\\andre\\anaconda3\\lib\\site-packages\\numpy\\f2py\\__version__.py\n",
      "   from C:\\Users\\andre\\AppData\\Local\\Temp\\pip-uninstall-nfdy0s9v\\f2py\\__version__.py\n",
      "  Moving to c:\\users\\andre\\anaconda3\\lib\\site-packages\\numpy\\f2py\\auxfuncs.py\n",
      "   from C:\\Users\\andre\\AppData\\Local\\Temp\\pip-uninstall-nfdy0s9v\\f2py\\auxfuncs.py\n",
      "  Moving to c:\\users\\andre\\anaconda3\\lib\\site-packages\\numpy\\f2py\\capi_maps.py\n",
      "   from C:\\Users\\andre\\AppData\\Local\\Temp\\pip-uninstall-nfdy0s9v\\f2py\\capi_maps.py\n",
      "  Moving to c:\\users\\andre\\anaconda3\\lib\\site-packages\\numpy\\f2py\\cb_rules.py\n",
      "   from C:\\Users\\andre\\AppData\\Local\\Temp\\pip-uninstall-nfdy0s9v\\f2py\\cb_rules.py\n",
      "  Moving to c:\\users\\andre\\anaconda3\\lib\\site-packages\\numpy\\f2py\\cfuncs.py\n",
      "   from C:\\Users\\andre\\AppData\\Local\\Temp\\pip-uninstall-nfdy0s9v\\f2py\\cfuncs.py\n",
      "  Moving to c:\\users\\andre\\anaconda3\\lib\\site-packages\\numpy\\f2py\\common_rules.py\n",
      "   from C:\\Users\\andre\\AppData\\Local\\Temp\\pip-uninstall-nfdy0s9v\\f2py\\common_rules.py\n",
      "  Moving to c:\\users\\andre\\anaconda3\\lib\\site-packages\\numpy\\f2py\\crackfortran.py\n",
      "   from C:\\Users\\andre\\AppData\\Local\\Temp\\pip-uninstall-nfdy0s9v\\f2py\\crackfortran.py\n",
      "  Moving to c:\\users\\andre\\anaconda3\\lib\\site-packages\\numpy\\f2py\\diagnose.py\n",
      "   from C:\\Users\\andre\\AppData\\Local\\Temp\\pip-uninstall-nfdy0s9v\\f2py\\diagnose.py\n",
      "  Moving to c:\\users\\andre\\anaconda3\\lib\\site-packages\\numpy\\f2py\\f2py2e.py\n",
      "   from C:\\Users\\andre\\AppData\\Local\\Temp\\pip-uninstall-nfdy0s9v\\f2py\\f2py2e.py\n",
      "  Moving to c:\\users\\andre\\anaconda3\\lib\\site-packages\\numpy\\f2py\\f2py_testing.py\n",
      "   from C:\\Users\\andre\\AppData\\Local\\Temp\\pip-uninstall-nfdy0s9v\\f2py\\f2py_testing.py\n",
      "  Moving to c:\\users\\andre\\anaconda3\\lib\\site-packages\\numpy\\f2py\\f90mod_rules.py\n",
      "   from C:\\Users\\andre\\AppData\\Local\\Temp\\pip-uninstall-nfdy0s9v\\f2py\\f90mod_rules.py\n",
      "  Moving to c:\\users\\andre\\anaconda3\\lib\\site-packages\\numpy\\f2py\\func2subr.py\n",
      "   from C:\\Users\\andre\\AppData\\Local\\Temp\\pip-uninstall-nfdy0s9v\\f2py\\func2subr.py\n",
      "  Moving to c:\\users\\andre\\anaconda3\\lib\\site-packages\\numpy\\f2py\\rules.py\n",
      "   from C:\\Users\\andre\\AppData\\Local\\Temp\\pip-uninstall-nfdy0s9v\\f2py\\rules.py\n",
      "  Moving to c:\\users\\andre\\anaconda3\\lib\\site-packages\\numpy\\f2py\\setup.py\n",
      "   from C:\\Users\\andre\\AppData\\Local\\Temp\\pip-uninstall-nfdy0s9v\\f2py\\setup.py\n",
      "  Moving to c:\\users\\andre\\anaconda3\\lib\\site-packages\\numpy\\f2py\\src\\\n",
      "   from C:\\Users\\andre\\anaconda3\\Lib\\site-packages\\numpy\\f2py\\~-c\n",
      "  Moving to c:\\users\\andre\\anaconda3\\lib\\site-packages\\numpy\\f2py\\tests\\\n",
      "   from C:\\Users\\andre\\anaconda3\\Lib\\site-packages\\numpy\\f2py\\~-sts\n",
      "  Moving to c:\\users\\andre\\anaconda3\\lib\\site-packages\\numpy\\f2py\\use_rules.py\n",
      "   from C:\\Users\\andre\\AppData\\Local\\Temp\\pip-uninstall-nfdy0s9v\\f2py\\use_rules.py\n",
      "  Moving to c:\\users\\andre\\anaconda3\\lib\\site-packages\\numpy\\fft\\__init__.py\n",
      "   from C:\\Users\\andre\\AppData\\Local\\Temp\\pip-uninstall-nfdy0s9v\\fft\\__init__.py\n",
      "  Moving to c:\\users\\andre\\anaconda3\\lib\\site-packages\\numpy\\fft\\__init__.pyi\n",
      "   from C:\\Users\\andre\\AppData\\Local\\Temp\\pip-uninstall-nfdy0s9v\\fft\\__init__.pyi\n",
      "  Moving to c:\\users\\andre\\anaconda3\\lib\\site-packages\\numpy\\fft\\__pycache__\\\n",
      "   from C:\\Users\\andre\\anaconda3\\Lib\\site-packages\\numpy\\fft\\~-pycache__\n",
      "  Moving to c:\\users\\andre\\anaconda3\\lib\\site-packages\\numpy\\fft\\_pocketfft.py\n",
      "   from C:\\Users\\andre\\AppData\\Local\\Temp\\pip-uninstall-nfdy0s9v\\fft\\_pocketfft.py\n",
      "  Moving to c:\\users\\andre\\anaconda3\\lib\\site-packages\\numpy\\fft\\_pocketfft_internal.cp39-win_amd64.pyd\n",
      "   from C:\\Users\\andre\\AppData\\Local\\Temp\\pip-uninstall-nfdy0s9v\\fft\\_pocketfft_internal.cp39-win_amd64.pyd\n",
      "  Moving to c:\\users\\andre\\anaconda3\\lib\\site-packages\\numpy\\fft\\helper.py\n",
      "   from C:\\Users\\andre\\AppData\\Local\\Temp\\pip-uninstall-nfdy0s9v\\fft\\helper.py\n",
      "  Moving to c:\\users\\andre\\anaconda3\\lib\\site-packages\\numpy\\fft\\setup.py\n",
      "   from C:\\Users\\andre\\AppData\\Local\\Temp\\pip-uninstall-nfdy0s9v\\fft\\setup.py\n",
      "  Moving to c:\\users\\andre\\anaconda3\\lib\\site-packages\\numpy\\fft\\tests\\\n",
      "   from C:\\Users\\andre\\anaconda3\\Lib\\site-packages\\numpy\\fft\\~-sts\n",
      "  Moving to c:\\users\\andre\\anaconda3\\lib\\site-packages\\numpy\\lib\\\n",
      "   from C:\\Users\\andre\\anaconda3\\Lib\\site-packages\\numpy\\~-b\n",
      "  Moving to c:\\users\\andre\\anaconda3\\lib\\site-packages\\numpy\\license.txt\n",
      "   from C:\\Users\\andre\\AppData\\Local\\Temp\\pip-uninstall-nfdy0s9v\\license.txt\n",
      "  Moving to c:\\users\\andre\\anaconda3\\lib\\site-packages\\numpy\\linalg\\__init__.py\n",
      "   from C:\\Users\\andre\\AppData\\Local\\Temp\\pip-uninstall-nfdy0s9v\\linalg\\__init__.py\n",
      "  Moving to c:\\users\\andre\\anaconda3\\lib\\site-packages\\numpy\\linalg\\__init__.pyi\n",
      "   from C:\\Users\\andre\\AppData\\Local\\Temp\\pip-uninstall-nfdy0s9v\\linalg\\__init__.pyi\n",
      "  Moving to c:\\users\\andre\\anaconda3\\lib\\site-packages\\numpy\\linalg\\__pycache__\\\n",
      "   from C:\\Users\\andre\\anaconda3\\Lib\\site-packages\\numpy\\linalg\\~-pycache__\n",
      "  Moving to c:\\users\\andre\\anaconda3\\lib\\site-packages\\numpy\\linalg\\_umath_linalg.cp39-win_amd64.pyd\n",
      "   from C:\\Users\\andre\\AppData\\Local\\Temp\\pip-uninstall-nfdy0s9v\\linalg\\_umath_linalg.cp39-win_amd64.pyd\n",
      "  Moving to c:\\users\\andre\\anaconda3\\lib\\site-packages\\numpy\\linalg\\lapack_lite.cp39-win_amd64.pyd\n",
      "   from C:\\Users\\andre\\AppData\\Local\\Temp\\pip-uninstall-nfdy0s9v\\linalg\\lapack_lite.cp39-win_amd64.pyd\n",
      "  Moving to c:\\users\\andre\\anaconda3\\lib\\site-packages\\numpy\\linalg\\linalg.py\n",
      "   from C:\\Users\\andre\\AppData\\Local\\Temp\\pip-uninstall-nfdy0s9v\\linalg\\linalg.py\n",
      "  Moving to c:\\users\\andre\\anaconda3\\lib\\site-packages\\numpy\\linalg\\setup.py\n",
      "   from C:\\Users\\andre\\AppData\\Local\\Temp\\pip-uninstall-nfdy0s9v\\linalg\\setup.py\n",
      "  Moving to c:\\users\\andre\\anaconda3\\lib\\site-packages\\numpy\\linalg\\tests\\\n",
      "   from C:\\Users\\andre\\anaconda3\\Lib\\site-packages\\numpy\\linalg\\~ests\n",
      "  Moving to c:\\users\\andre\\anaconda3\\lib\\site-packages\\numpy\\ma\\\n",
      "   from C:\\Users\\andre\\anaconda3\\Lib\\site-packages\\numpy\\~ma\n",
      "  Moving to c:\\users\\andre\\anaconda3\\lib\\site-packages\\numpy\\matlib.py\n",
      "   from C:\\Users\\andre\\AppData\\Local\\Temp\\pip-uninstall-nfdy0s9v\\matlib.py\n",
      "  Moving to c:\\users\\andre\\anaconda3\\lib\\site-packages\\numpy\\matrixlib\\\n",
      "   from C:\\Users\\andre\\anaconda3\\Lib\\site-packages\\numpy\\~-trixlib\n",
      "  Moving to c:\\users\\andre\\anaconda3\\lib\\site-packages\\numpy\\polynomial\\\n",
      "   from C:\\Users\\andre\\anaconda3\\Lib\\site-packages\\numpy\\~-lynomial\n",
      "  Moving to c:\\users\\andre\\anaconda3\\lib\\site-packages\\numpy\\py.typed\n",
      "   from C:\\Users\\andre\\AppData\\Local\\Temp\\pip-uninstall-nfdy0s9v\\py.typed\n",
      "  Moving to c:\\users\\andre\\anaconda3\\lib\\site-packages\\numpy\\random\\__init__.pxd\n",
      "   from C:\\Users\\andre\\AppData\\Local\\Temp\\pip-uninstall-nfdy0s9v\\random\\__init__.pxd\n",
      "  Moving to c:\\users\\andre\\anaconda3\\lib\\site-packages\\numpy\\random\\__init__.py\n",
      "   from C:\\Users\\andre\\AppData\\Local\\Temp\\pip-uninstall-nfdy0s9v\\random\\__init__.py\n",
      "  Moving to c:\\users\\andre\\anaconda3\\lib\\site-packages\\numpy\\random\\__init__.pyi\n",
      "   from C:\\Users\\andre\\AppData\\Local\\Temp\\pip-uninstall-nfdy0s9v\\random\\__init__.pyi\n",
      "  Moving to c:\\users\\andre\\anaconda3\\lib\\site-packages\\numpy\\random\\__pycache__\\\n",
      "   from C:\\Users\\andre\\anaconda3\\Lib\\site-packages\\numpy\\random\\~-pycache__\n",
      "  Moving to c:\\users\\andre\\anaconda3\\lib\\site-packages\\numpy\\random\\_bounded_integers.cp39-win_amd64.pyd\n",
      "   from C:\\Users\\andre\\AppData\\Local\\Temp\\pip-uninstall-nfdy0s9v\\random\\_bounded_integers.cp39-win_amd64.pyd\n",
      "  Moving to c:\\users\\andre\\anaconda3\\lib\\site-packages\\numpy\\random\\_bounded_integers.pxd\n",
      "   from C:\\Users\\andre\\AppData\\Local\\Temp\\pip-uninstall-nfdy0s9v\\random\\_bounded_integers.pxd\n",
      "  Moving to c:\\users\\andre\\anaconda3\\lib\\site-packages\\numpy\\random\\_common.cp39-win_amd64.pyd\n",
      "   from C:\\Users\\andre\\AppData\\Local\\Temp\\pip-uninstall-nfdy0s9v\\random\\_common.cp39-win_amd64.pyd\n",
      "  Moving to c:\\users\\andre\\anaconda3\\lib\\site-packages\\numpy\\random\\_common.pxd\n",
      "   from C:\\Users\\andre\\AppData\\Local\\Temp\\pip-uninstall-nfdy0s9v\\random\\_common.pxd\n",
      "  Moving to c:\\users\\andre\\anaconda3\\lib\\site-packages\\numpy\\random\\_examples\\cffi\\\n",
      "   from C:\\Users\\andre\\anaconda3\\Lib\\site-packages\\numpy\\random\\_examples\\~-fi\n",
      "  Moving to c:\\users\\andre\\anaconda3\\lib\\site-packages\\numpy\\random\\_examples\\cython\\\n",
      "   from C:\\Users\\andre\\anaconda3\\Lib\\site-packages\\numpy\\random\\_examples\\~-thon\n",
      "  Moving to c:\\users\\andre\\anaconda3\\lib\\site-packages\\numpy\\random\\_examples\\numba\\\n",
      "   from C:\\Users\\andre\\anaconda3\\Lib\\site-packages\\numpy\\random\\_examples\\~-mba\n",
      "  Moving to c:\\users\\andre\\anaconda3\\lib\\site-packages\\numpy\\random\\_generator.cp39-win_amd64.pyd\n",
      "   from C:\\Users\\andre\\AppData\\Local\\Temp\\pip-uninstall-nfdy0s9v\\random\\_generator.cp39-win_amd64.pyd\n",
      "  Moving to c:\\users\\andre\\anaconda3\\lib\\site-packages\\numpy\\random\\_generator.pyi\n",
      "   from C:\\Users\\andre\\AppData\\Local\\Temp\\pip-uninstall-nfdy0s9v\\random\\_generator.pyi\n",
      "  Moving to c:\\users\\andre\\anaconda3\\lib\\site-packages\\numpy\\random\\_mt19937.cp39-win_amd64.pyd\n",
      "   from C:\\Users\\andre\\AppData\\Local\\Temp\\pip-uninstall-nfdy0s9v\\random\\_mt19937.cp39-win_amd64.pyd\n",
      "  Moving to c:\\users\\andre\\anaconda3\\lib\\site-packages\\numpy\\random\\_mt19937.pyi\n",
      "   from C:\\Users\\andre\\AppData\\Local\\Temp\\pip-uninstall-nfdy0s9v\\random\\_mt19937.pyi\n",
      "  Moving to c:\\users\\andre\\anaconda3\\lib\\site-packages\\numpy\\random\\_pcg64.cp39-win_amd64.pyd\n",
      "   from C:\\Users\\andre\\AppData\\Local\\Temp\\pip-uninstall-nfdy0s9v\\random\\_pcg64.cp39-win_amd64.pyd\n",
      "  Moving to c:\\users\\andre\\anaconda3\\lib\\site-packages\\numpy\\random\\_pcg64.pyi\n",
      "   from C:\\Users\\andre\\AppData\\Local\\Temp\\pip-uninstall-nfdy0s9v\\random\\_pcg64.pyi\n",
      "  Moving to c:\\users\\andre\\anaconda3\\lib\\site-packages\\numpy\\random\\_philox.cp39-win_amd64.pyd\n",
      "   from C:\\Users\\andre\\AppData\\Local\\Temp\\pip-uninstall-nfdy0s9v\\random\\_philox.cp39-win_amd64.pyd\n",
      "  Moving to c:\\users\\andre\\anaconda3\\lib\\site-packages\\numpy\\random\\_philox.pyi\n",
      "   from C:\\Users\\andre\\AppData\\Local\\Temp\\pip-uninstall-nfdy0s9v\\random\\_philox.pyi\n",
      "  Moving to c:\\users\\andre\\anaconda3\\lib\\site-packages\\numpy\\random\\_pickle.py\n",
      "   from C:\\Users\\andre\\AppData\\Local\\Temp\\pip-uninstall-nfdy0s9v\\random\\_pickle.py\n",
      "  Moving to c:\\users\\andre\\anaconda3\\lib\\site-packages\\numpy\\random\\_sfc64.cp39-win_amd64.pyd\n",
      "   from C:\\Users\\andre\\AppData\\Local\\Temp\\pip-uninstall-nfdy0s9v\\random\\_sfc64.cp39-win_amd64.pyd\n",
      "  Moving to c:\\users\\andre\\anaconda3\\lib\\site-packages\\numpy\\random\\_sfc64.pyi\n",
      "   from C:\\Users\\andre\\AppData\\Local\\Temp\\pip-uninstall-nfdy0s9v\\random\\_sfc64.pyi\n",
      "  Moving to c:\\users\\andre\\anaconda3\\lib\\site-packages\\numpy\\random\\bit_generator.cp39-win_amd64.pyd\n",
      "   from C:\\Users\\andre\\AppData\\Local\\Temp\\pip-uninstall-nfdy0s9v\\random\\bit_generator.cp39-win_amd64.pyd\n",
      "  Moving to c:\\users\\andre\\anaconda3\\lib\\site-packages\\numpy\\random\\bit_generator.pxd\n",
      "   from C:\\Users\\andre\\AppData\\Local\\Temp\\pip-uninstall-nfdy0s9v\\random\\bit_generator.pxd\n",
      "  Moving to c:\\users\\andre\\anaconda3\\lib\\site-packages\\numpy\\random\\bit_generator.pyi\n",
      "   from C:\\Users\\andre\\AppData\\Local\\Temp\\pip-uninstall-nfdy0s9v\\random\\bit_generator.pyi\n",
      "  Moving to c:\\users\\andre\\anaconda3\\lib\\site-packages\\numpy\\random\\c_distributions.pxd\n",
      "   from C:\\Users\\andre\\AppData\\Local\\Temp\\pip-uninstall-nfdy0s9v\\random\\c_distributions.pxd\n",
      "  Moving to c:\\users\\andre\\anaconda3\\lib\\site-packages\\numpy\\random\\lib\\\n",
      "   from C:\\Users\\andre\\anaconda3\\Lib\\site-packages\\numpy\\random\\~-b\n",
      "  Moving to c:\\users\\andre\\anaconda3\\lib\\site-packages\\numpy\\random\\mtrand.cp39-win_amd64.pyd\n",
      "   from C:\\Users\\andre\\AppData\\Local\\Temp\\pip-uninstall-nfdy0s9v\\random\\mtrand.cp39-win_amd64.pyd\n",
      "  Moving to c:\\users\\andre\\anaconda3\\lib\\site-packages\\numpy\\random\\mtrand.pyi\n",
      "   from C:\\Users\\andre\\AppData\\Local\\Temp\\pip-uninstall-nfdy0s9v\\random\\mtrand.pyi\n",
      "  Moving to c:\\users\\andre\\anaconda3\\lib\\site-packages\\numpy\\random\\setup.py\n",
      "   from C:\\Users\\andre\\AppData\\Local\\Temp\\pip-uninstall-nfdy0s9v\\random\\setup.py\n",
      "  Moving to c:\\users\\andre\\anaconda3\\lib\\site-packages\\numpy\\random\\tests\\\n",
      "   from C:\\Users\\andre\\anaconda3\\Lib\\site-packages\\numpy\\random\\~-sts\n",
      "  Moving to c:\\users\\andre\\anaconda3\\lib\\site-packages\\numpy\\rec.pyi\n",
      "   from C:\\Users\\andre\\AppData\\Local\\Temp\\pip-uninstall-nfdy0s9v\\rec.pyi\n",
      "  Moving to c:\\users\\andre\\anaconda3\\lib\\site-packages\\numpy\\setup.py\n",
      "   from C:\\Users\\andre\\AppData\\Local\\Temp\\pip-uninstall-nfdy0s9v\\setup.py\n",
      "  Moving to c:\\users\\andre\\anaconda3\\lib\\site-packages\\numpy\\testing\\\n",
      "   from C:\\Users\\andre\\anaconda3\\Lib\\site-packages\\numpy\\~-sting\n",
      "  Moving to c:\\users\\andre\\anaconda3\\lib\\site-packages\\numpy\\tests\\\n",
      "   from C:\\Users\\andre\\anaconda3\\Lib\\site-packages\\numpy\\~-sts\n",
      "  Moving to c:\\users\\andre\\anaconda3\\lib\\site-packages\\numpy\\typing\\__init__.py\n",
      "   from C:\\Users\\andre\\AppData\\Local\\Temp\\pip-uninstall-nfdy0s9v\\typing\\__init__.py\n",
      "  Moving to c:\\users\\andre\\anaconda3\\lib\\site-packages\\numpy\\typing\\__pycache__\\\n",
      "   from C:\\Users\\andre\\anaconda3\\Lib\\site-packages\\numpy\\typing\\~_pycache__\n",
      "  Moving to c:\\users\\andre\\anaconda3\\lib\\site-packages\\numpy\\typing\\_add_docstring.py\n",
      "   from C:\\Users\\andre\\AppData\\Local\\Temp\\pip-uninstall-nfdy0s9v\\typing\\_add_docstring.py\n",
      "  Moving to c:\\users\\andre\\anaconda3\\lib\\site-packages\\numpy\\typing\\_array_like.py\n",
      "   from C:\\Users\\andre\\AppData\\Local\\Temp\\pip-uninstall-nfdy0s9v\\typing\\_array_like.py\n",
      "  Moving to c:\\users\\andre\\anaconda3\\lib\\site-packages\\numpy\\typing\\_callable.py\n",
      "   from C:\\Users\\andre\\AppData\\Local\\Temp\\pip-uninstall-nfdy0s9v\\typing\\_callable.py\n",
      "  Moving to c:\\users\\andre\\anaconda3\\lib\\site-packages\\numpy\\typing\\_char_codes.py\n",
      "   from C:\\Users\\andre\\AppData\\Local\\Temp\\pip-uninstall-nfdy0s9v\\typing\\_char_codes.py\n",
      "  Moving to c:\\users\\andre\\anaconda3\\lib\\site-packages\\numpy\\typing\\_dtype_like.py\n",
      "   from C:\\Users\\andre\\AppData\\Local\\Temp\\pip-uninstall-nfdy0s9v\\typing\\_dtype_like.py\n",
      "  Moving to c:\\users\\andre\\anaconda3\\lib\\site-packages\\numpy\\typing\\_extended_precision.py\n",
      "   from C:\\Users\\andre\\AppData\\Local\\Temp\\pip-uninstall-nfdy0s9v\\typing\\_extended_precision.py\n",
      "  Moving to c:\\users\\andre\\anaconda3\\lib\\site-packages\\numpy\\typing\\_generic_alias.py\n",
      "   from C:\\Users\\andre\\AppData\\Local\\Temp\\pip-uninstall-nfdy0s9v\\typing\\_generic_alias.py\n",
      "  Moving to c:\\users\\andre\\anaconda3\\lib\\site-packages\\numpy\\typing\\_nbit.py\n",
      "   from C:\\Users\\andre\\AppData\\Local\\Temp\\pip-uninstall-nfdy0s9v\\typing\\_nbit.py\n",
      "  Moving to c:\\users\\andre\\anaconda3\\lib\\site-packages\\numpy\\typing\\_scalars.py\n",
      "   from C:\\Users\\andre\\AppData\\Local\\Temp\\pip-uninstall-nfdy0s9v\\typing\\_scalars.py\n",
      "  Moving to c:\\users\\andre\\anaconda3\\lib\\site-packages\\numpy\\typing\\_shape.py\n",
      "   from C:\\Users\\andre\\AppData\\Local\\Temp\\pip-uninstall-nfdy0s9v\\typing\\_shape.py\n",
      "  Moving to c:\\users\\andre\\anaconda3\\lib\\site-packages\\numpy\\typing\\_ufunc.pyi\n",
      "   from C:\\Users\\andre\\AppData\\Local\\Temp\\pip-uninstall-nfdy0s9v\\typing\\_ufunc.pyi\n",
      "  Moving to c:\\users\\andre\\anaconda3\\lib\\site-packages\\numpy\\typing\\mypy_plugin.py\n",
      "   from C:\\Users\\andre\\AppData\\Local\\Temp\\pip-uninstall-nfdy0s9v\\typing\\mypy_plugin.py\n",
      "  Moving to c:\\users\\andre\\anaconda3\\lib\\site-packages\\numpy\\typing\\setup.py\n",
      "   from C:\\Users\\andre\\AppData\\Local\\Temp\\pip-uninstall-nfdy0s9v\\typing\\setup.py\n",
      "  Moving to c:\\users\\andre\\anaconda3\\lib\\site-packages\\numpy\\typing\\tests\\__init__.py\n",
      "   from C:\\Users\\andre\\AppData\\Local\\Temp\\pip-uninstall-nfdy0s9v\\typing\\tests\\__init__.py\n",
      "  Moving to c:\\users\\andre\\anaconda3\\lib\\site-packages\\numpy\\typing\\tests\\__pycache__\\\n",
      "   from C:\\Users\\andre\\anaconda3\\Lib\\site-packages\\numpy\\typing\\tests\\~_pycache__\n",
      "  Moving to c:\\users\\andre\\anaconda3\\lib\\site-packages\\numpy\\typing\\tests\\data\\fail\\\n",
      "   from C:\\Users\\andre\\anaconda3\\Lib\\site-packages\\numpy\\typing\\tests\\data\\~ail\n",
      "  Moving to c:\\users\\andre\\anaconda3\\lib\\site-packages\\numpy\\typing\\tests\\data\\misc\\\n",
      "   from C:\\Users\\andre\\anaconda3\\Lib\\site-packages\\numpy\\typing\\tests\\data\\~isc\n",
      "  Moving to c:\\users\\andre\\anaconda3\\lib\\site-packages\\numpy\\typing\\tests\\data\\mypy.ini\n",
      "   from C:\\Users\\andre\\AppData\\Local\\Temp\\pip-uninstall-nfdy0s9v\\typing\\tests\\data\\mypy.ini\n",
      "  Moving to c:\\users\\andre\\anaconda3\\lib\\site-packages\\numpy\\typing\\tests\\data\\pass\\\n",
      "   from C:\\Users\\andre\\anaconda3\\Lib\\site-packages\\numpy\\typing\\tests\\data\\~-ss\n",
      "  Moving to c:\\users\\andre\\anaconda3\\lib\\site-packages\\numpy\\typing\\tests\\data\\reveal\\\n",
      "   from C:\\Users\\andre\\anaconda3\\Lib\\site-packages\\numpy\\typing\\tests\\data\\~eveal\n",
      "  Moving to c:\\users\\andre\\anaconda3\\lib\\site-packages\\numpy\\typing\\tests\\test_generic_alias.py\n",
      "   from C:\\Users\\andre\\AppData\\Local\\Temp\\pip-uninstall-nfdy0s9v\\typing\\tests\\test_generic_alias.py\n",
      "  Moving to c:\\users\\andre\\anaconda3\\lib\\site-packages\\numpy\\typing\\tests\\test_isfile.py\n",
      "   from C:\\Users\\andre\\AppData\\Local\\Temp\\pip-uninstall-nfdy0s9v\\typing\\tests\\test_isfile.py\n",
      "  Moving to c:\\users\\andre\\anaconda3\\lib\\site-packages\\numpy\\typing\\tests\\test_typing.py\n",
      "   from C:\\Users\\andre\\AppData\\Local\\Temp\\pip-uninstall-nfdy0s9v\\typing\\tests\\test_typing.py\n",
      "  Moving to c:\\users\\andre\\anaconda3\\lib\\site-packages\\numpy\\typing\\tests\\test_typing_extensions.py\n",
      "   from C:\\Users\\andre\\AppData\\Local\\Temp\\pip-uninstall-nfdy0s9v\\typing\\tests\\test_typing_extensions.py\n",
      "  Moving to c:\\users\\andre\\anaconda3\\lib\\site-packages\\numpy\\version.py\n",
      "   from C:\\Users\\andre\\AppData\\Local\\Temp\\pip-uninstall-nfdy0s9v\\version.py\n",
      "  Moving to c:\\users\\andre\\anaconda3\\scripts\\f2py.exe\n",
      "   from C:\\Users\\andre\\AppData\\Local\\Temp\\pip-uninstall-nxv5mq9h\\f2py.exe\n"
     ]
    }
   ],
   "source": [
    "#pip install optuna"
   ]
  },
  {
   "cell_type": "markdown",
   "metadata": {},
   "source": [
    "Here we import necessary packages. Note that utils is a folder, not a package. In this folder we need \"machine_learning.py\" file, from which we import MachineLearning object. We also suppress warnings, since they make the output messy"
   ]
  },
  {
   "cell_type": "code",
   "execution_count": 1,
   "metadata": {},
   "outputs": [
    {
     "name": "stderr",
     "output_type": "stream",
     "text": [
      "/Users/grigoryturchenko/tensorflow-test/env/lib/python3.8/site-packages/tqdm/auto.py:22: TqdmWarning: IProgress not found. Please update jupyter and ipywidgets. See https://ipywidgets.readthedocs.io/en/stable/user_install.html\n",
      "  from .autonotebook import tqdm as notebook_tqdm\n"
     ]
    }
   ],
   "source": [
    "import pickle, os, warnings, optuna, numpy as np\n",
    "from utils.machine_learning import MachineLearning\n",
    "warnings.filterwarnings('ignore')"
   ]
  },
  {
   "cell_type": "markdown",
   "metadata": {},
   "source": [
    "Here we cycle through the files and load only training and test datasets"
   ]
  },
  {
   "cell_type": "code",
   "execution_count": 2,
   "metadata": {},
   "outputs": [],
   "source": [
    "data_sets = []\n",
    "directory = 'data'\n",
    "\n",
    "files = os.listdir(directory)\n",
    "files.sort()\n",
    "files.pop(files.index('AB_NYC_2019.csv'))\n",
    "files.pop(files.index('X_cluster.pkl'))\n",
    "for file in files:\n",
    "    with open(f\"{directory}/{file}\", 'rb') as f:\n",
    "        data_sets.append(pickle.load(f))\n",
    "X_test, X_train, y_test, y_train = data_sets[0], data_sets[1], data_sets[2], data_sets[3]"
   ]
  },
  {
   "cell_type": "markdown",
   "metadata": {},
   "source": [
    "Setting random seed for reproducibility and creating an instance of MachineLearning class. As an input it accepts one of:\n",
    "- [linreg](https://scikit-learn.org/stable/modules/generated/sklearn.linear_model.LinearRegression.html)\n",
    "    - No sensible hyperparameters to tune\n",
    "- [knn](https://scikit-learn.org/stable/modules/generated/sklearn.neighbors.KNeighborsRegressor.html)\n",
    "    - **Andreas:** Start with ('n_neighbors', 1, 10), ('weights', ['uniform', 'distance'])\n",
    "- [tree](https://scikit-learn.org/stable/modules/generated/sklearn.tree.DecisionTreeRegressor.html)\n",
    "    - **Waqar:** Start with ('max_depth', 3, 12), ('min_samples_split', 10, 20), ('min_samples_leaf', 1, 10), ('max_features', ['auto', 'sqrt'])\n",
    "- [rf](https://scikit-learn.org/stable/modules/generated/sklearn.ensemble.RandomForestRegressor.html)\n",
    "- [xgb](https://scikit-learn.org/stable/modules/generated/sklearn.ensemble.GradientBoostingRegressor.html#sklearn.ensemble.GradientBoostingRegressor)\n",
    "\n",
    "You can click an algorithm and check out what kinds of parameteres it has for tuning"
   ]
  },
  {
   "cell_type": "code",
   "execution_count": 9,
   "metadata": {},
   "outputs": [],
   "source": [
    "np.random.seed(510)\n",
    "ml = MachineLearning('knn')"
   ]
  },
  {
   "cell_type": "markdown",
   "metadata": {},
   "source": [
    "This is the most important part of the notebook, since here we tune the hyperparameters and train the model. You should supply number of hyperparameters tuning iterations, training and test datasets (in this particular order), and hyperparameters for tuning (in any order). A few notes about hyperparameters:\n",
    "- They can be either numeric or categorical\n",
    "- If you want to supply a numeric (integer or float) parameter, you pass the following tuple: (hyperparameter_name, min, max)\n",
    "- If you want to supply a categorical parameter, you pass the following tuple: (hyperparameter_name, [val_1, val_2, ..., val_n])\n",
    "- You may supply as many hyperparameters you want, from 1 to as many as an algo has\n",
    "\n",
    "Sometimes the training might take quite a while if you pass many hyperparameters with wide values range. However, the algorithm does not really try all possible combinations of hyperparameters, as it gets rid of not promising combinations quite early, so do not be afraid of experimenting!"
   ]
  },
  {
   "cell_type": "code",
   "execution_count": 6,
   "metadata": {},
   "outputs": [],
   "source": [
    "ml.fit(100, X_train, y_train, X_test, y_test, ('n_neighbors',1 , 10), ('weights', ['uniform', 'distance']))"
   ]
  },
  {
   "cell_type": "markdown",
   "metadata": {},
   "source": [
    "After the training is done, we can check out the hyperparameters the model was trained with"
   ]
  },
  {
   "cell_type": "code",
   "execution_count": 7,
   "metadata": {},
   "outputs": [
    {
     "data": {
      "text/plain": [
       "{'algorithm': 'auto',\n",
       " 'leaf_size': 30,\n",
       " 'metric': 'minkowski',\n",
       " 'metric_params': None,\n",
       " 'n_jobs': None,\n",
       " 'n_neighbors': 10,\n",
       " 'p': 2,\n",
       " 'weights': 'uniform'}"
      ]
     },
     "execution_count": 7,
     "metadata": {},
     "output_type": "execute_result"
    }
   ],
   "source": [
    "ml.model.get_params()"
   ]
  },
  {
   "cell_type": "code",
   "execution_count": 8,
   "metadata": {},
   "outputs": [
    {
     "name": "stdout",
     "output_type": "stream",
     "text": [
      "Train RMSE: 0.4266588306362564\n",
      "Test RMSE:  0.48170423887938885\n"
     ]
    }
   ],
   "source": [
    "pred_train = ml.predict(X_train)\n",
    "pred_test = ml.predict(X_test)\n",
    "print(f'Train RMSE: {ml.get_rmse(y_train, pred_train)}\\nTest RMSE:  {ml.get_rmse(y_test, pred_test)}')"
   ]
  },
  {
   "cell_type": "code",
   "execution_count": 9,
   "metadata": {},
   "outputs": [],
   "source": [
    "ml = MachineLearning('knn')"
   ]
  },
  {
   "cell_type": "code",
   "execution_count": 10,
   "metadata": {},
   "outputs": [],
   "source": [
    "ml.fit(100, X_train, y_train, X_test, y_test, ('n_neighbors',1 , 11), ('weights', ['uniform', 'distance']))"
   ]
  },
  {
   "cell_type": "code",
   "execution_count": 11,
   "metadata": {},
   "outputs": [
    {
     "data": {
      "text/plain": [
       "{'algorithm': 'auto',\n",
       " 'leaf_size': 30,\n",
       " 'metric': 'minkowski',\n",
       " 'metric_params': None,\n",
       " 'n_jobs': None,\n",
       " 'n_neighbors': 11,\n",
       " 'p': 2,\n",
       " 'weights': 'uniform'}"
      ]
     },
     "execution_count": 11,
     "metadata": {},
     "output_type": "execute_result"
    }
   ],
   "source": [
    "ml.model.get_params()"
   ]
  },
  {
   "cell_type": "code",
   "execution_count": 12,
   "metadata": {},
   "outputs": [
    {
     "name": "stdout",
     "output_type": "stream",
     "text": [
      "Train RMSE: 0.4299462499244671\n",
      "Test RMSE:  0.4806614992234741\n"
     ]
    }
   ],
   "source": [
    "pred_train = ml.predict(X_train)\n",
    "pred_test = ml.predict(X_test)\n",
    "print(f'Train RMSE: {ml.get_rmse(y_train, pred_train)}\\nTest RMSE:  {ml.get_rmse(y_test, pred_test)}')"
   ]
  },
  {
   "cell_type": "markdown",
   "metadata": {},
   "source": [
    "You shouldn't stop at this point, as our goal is to try and improve the performance as much as we can. For this case, you can see that `n_neighbors` parameter is equal to 10, which is the upper limit of what we supplied to the `fit` method. That means that we can try a higher range of neighbors and see if it makes RMSE even lower. Let us create an instance of the class once again and fit the model with different params"
   ]
  },
  {
   "cell_type": "markdown",
   "metadata": {},
   "source": [
    "Check out the hyperparameters"
   ]
  },
  {
   "cell_type": "markdown",
   "metadata": {},
   "source": [
    "Check out the metrics. Now as we increased the number of neighbors the model is overfitted, because Train RMSE is 0 (the model perfectly predicted all the training examples), but Test RMSE is not much less. The model once again used the upper limit of `n_neighbors`, meaning that increasing this number further does not make much sense, and we can stick to the previous version"
   ]
  },
  {
   "cell_type": "code",
   "execution_count": 11,
   "metadata": {},
   "outputs": [],
   "source": [
    "np.random.seed(510)\n",
    "ml = MachineLearning('knn')"
   ]
  },
  {
   "cell_type": "code",
   "execution_count": 12,
   "metadata": {},
   "outputs": [],
   "source": [
    "ml.fit(100, X_train, y_train, X_test, y_test, ('n_neighbors',1 , 12), ('weights', ['uniform', 'distance']))"
   ]
  },
  {
   "cell_type": "code",
   "execution_count": 13,
   "metadata": {},
   "outputs": [
    {
     "data": {
      "text/plain": [
       "{'algorithm': 'auto',\n",
       " 'leaf_size': 30,\n",
       " 'metric': 'minkowski',\n",
       " 'metric_params': None,\n",
       " 'n_jobs': None,\n",
       " 'n_neighbors': 12,\n",
       " 'p': 2,\n",
       " 'weights': 'distance'}"
      ]
     },
     "execution_count": 13,
     "metadata": {},
     "output_type": "execute_result"
    }
   ],
   "source": [
    "ml.model.get_params()"
   ]
  },
  {
   "cell_type": "code",
   "execution_count": 14,
   "metadata": {},
   "outputs": [
    {
     "name": "stdout",
     "output_type": "stream",
     "text": [
      "Train RMSE: 0.0\n",
      "Test RMSE:  0.4721615142547624\n"
     ]
    }
   ],
   "source": [
    "pred_train = ml.predict(X_train)\n",
    "pred_test = ml.predict(X_test)\n",
    "print(f'Train RMSE: {ml.get_rmse(y_train, pred_train)}\\nTest RMSE:  {ml.get_rmse(y_test, pred_test)}')"
   ]
  },
  {
   "cell_type": "code",
   "execution_count": 7,
   "metadata": {},
   "outputs": [],
   "source": [
    "np.random.seed(510)\n",
    "ml = MachineLearning('knn')"
   ]
  },
  {
   "cell_type": "code",
   "execution_count": 8,
   "metadata": {},
   "outputs": [],
   "source": [
    "ml.fit(100, X_train, y_train, X_test, y_test, ('n_neighbors',1 ,13), ('weights', ['uniform', 'distance']))"
   ]
  },
  {
   "cell_type": "code",
   "execution_count": 9,
   "metadata": {},
   "outputs": [
    {
     "data": {
      "text/plain": [
       "{'algorithm': 'auto',\n",
       " 'leaf_size': 30,\n",
       " 'metric': 'minkowski',\n",
       " 'metric_params': None,\n",
       " 'n_jobs': None,\n",
       " 'n_neighbors': 13,\n",
       " 'p': 2,\n",
       " 'weights': 'distance'}"
      ]
     },
     "execution_count": 9,
     "metadata": {},
     "output_type": "execute_result"
    }
   ],
   "source": [
    "ml.model.get_params()"
   ]
  },
  {
   "cell_type": "code",
   "execution_count": 10,
   "metadata": {},
   "outputs": [
    {
     "name": "stdout",
     "output_type": "stream",
     "text": [
      "Train RMSE: 0.0\n",
      "Test RMSE:  0.471298494524852\n"
     ]
    }
   ],
   "source": [
    "pred_train = ml.predict(X_train)\n",
    "pred_test = ml.predict(X_test)\n",
    "print(f'Train RMSE: {ml.get_rmse(y_train, pred_train)}\\nTest RMSE:  {ml.get_rmse(y_test, pred_test)}')"
   ]
  },
  {
   "cell_type": "code",
   "execution_count": 3,
   "metadata": {},
   "outputs": [],
   "source": [
    "np.random.seed(510)\n",
    "ml = MachineLearning('knn')"
   ]
  },
  {
   "cell_type": "code",
   "execution_count": 4,
   "metadata": {},
   "outputs": [],
   "source": [
    "ml.fit(100, X_train, y_train, X_test, y_test, ('n_neighbors',1 , 14), ('weights', ['uniform', 'distance']))"
   ]
  },
  {
   "cell_type": "code",
   "execution_count": 5,
   "metadata": {},
   "outputs": [
    {
     "data": {
      "text/plain": [
       "{'algorithm': 'auto',\n",
       " 'leaf_size': 30,\n",
       " 'metric': 'minkowski',\n",
       " 'metric_params': None,\n",
       " 'n_jobs': None,\n",
       " 'n_neighbors': 14,\n",
       " 'p': 2,\n",
       " 'weights': 'distance'}"
      ]
     },
     "execution_count": 5,
     "metadata": {},
     "output_type": "execute_result"
    }
   ],
   "source": [
    "ml.model.get_params()"
   ]
  },
  {
   "cell_type": "code",
   "execution_count": 6,
   "metadata": {},
   "outputs": [
    {
     "name": "stdout",
     "output_type": "stream",
     "text": [
      "Train RMSE: 0.0\n",
      "Test RMSE:  0.4706209694095188\n"
     ]
    }
   ],
   "source": [
    "pred_train = ml.predict(X_train)\n",
    "pred_test = ml.predict(X_test)\n",
    "print(f'Train RMSE: {ml.get_rmse(y_train, pred_train)}\\nTest RMSE:  {ml.get_rmse(y_test, pred_test)}')"
   ]
  },
  {
   "cell_type": "code",
   "execution_count": 22,
   "metadata": {},
   "outputs": [],
   "source": [
    "ml = MachineLearning('knn')"
   ]
  },
  {
   "cell_type": "code",
   "execution_count": 23,
   "metadata": {},
   "outputs": [],
   "source": [
    "ml.fit(100, X_train, y_train, X_test, y_test, ('n_neighbors',1 , 15), ('weights', ['uniform', 'distance']))"
   ]
  },
  {
   "cell_type": "code",
   "execution_count": 24,
   "metadata": {},
   "outputs": [
    {
     "data": {
      "text/plain": [
       "{'algorithm': 'auto',\n",
       " 'leaf_size': 30,\n",
       " 'metric': 'minkowski',\n",
       " 'metric_params': None,\n",
       " 'n_jobs': None,\n",
       " 'n_neighbors': 15,\n",
       " 'p': 2,\n",
       " 'weights': 'distance'}"
      ]
     },
     "execution_count": 24,
     "metadata": {},
     "output_type": "execute_result"
    }
   ],
   "source": [
    "ml.model.get_params()"
   ]
  },
  {
   "cell_type": "code",
   "execution_count": 25,
   "metadata": {},
   "outputs": [
    {
     "name": "stdout",
     "output_type": "stream",
     "text": [
      "Train RMSE: 0.0\n",
      "Test RMSE:  0.47032948566061383\n"
     ]
    }
   ],
   "source": [
    "pred_train = ml.predict(X_train)\n",
    "pred_test = ml.predict(X_test)\n",
    "print(f'Train RMSE: {ml.get_rmse(y_train, pred_train)}\\nTest RMSE:  {ml.get_rmse(y_test, pred_test)}')"
   ]
  },
  {
   "cell_type": "code",
   "execution_count": 15,
   "metadata": {},
   "outputs": [],
   "source": [
    "np.random.seed(510)\n",
    "ml = MachineLearning('knn')"
   ]
  },
  {
   "cell_type": "code",
   "execution_count": 16,
   "metadata": {},
   "outputs": [],
   "source": [
    "ml.fit(100, X_train, y_train, X_test, y_test, ('n_neighbors',1 , 16), ('weights', ['uniform', 'distance']))"
   ]
  },
  {
   "cell_type": "code",
   "execution_count": 17,
   "metadata": {},
   "outputs": [
    {
     "data": {
      "text/plain": [
       "{'algorithm': 'auto',\n",
       " 'leaf_size': 30,\n",
       " 'metric': 'minkowski',\n",
       " 'metric_params': None,\n",
       " 'n_jobs': None,\n",
       " 'n_neighbors': 16,\n",
       " 'p': 2,\n",
       " 'weights': 'distance'}"
      ]
     },
     "execution_count": 17,
     "metadata": {},
     "output_type": "execute_result"
    }
   ],
   "source": [
    "ml.model.get_params()"
   ]
  },
  {
   "cell_type": "code",
   "execution_count": 18,
   "metadata": {},
   "outputs": [
    {
     "name": "stdout",
     "output_type": "stream",
     "text": [
      "Train RMSE: 0.0\n",
      "Test RMSE:  0.46951913055551714\n"
     ]
    }
   ],
   "source": [
    "pred_train = ml.predict(X_train)\n",
    "pred_test = ml.predict(X_test)\n",
    "print(f'Train RMSE: {ml.get_rmse(y_train, pred_train)}\\nTest RMSE:  {ml.get_rmse(y_test, pred_test)}')"
   ]
  },
  {
   "cell_type": "code",
   "execution_count": 19,
   "metadata": {},
   "outputs": [],
   "source": [
    "ml.save()"
   ]
  },
  {
   "cell_type": "code",
   "execution_count": 33,
   "metadata": {},
   "outputs": [],
   "source": [
    "ml = MachineLearning('knn')"
   ]
  },
  {
   "cell_type": "code",
   "execution_count": 34,
   "metadata": {},
   "outputs": [],
   "source": [
    "ml.fit(100, X_train, y_train, X_test, y_test, ('n_neighbors',1 , 17), ('weights', ['uniform', 'distance']))"
   ]
  },
  {
   "cell_type": "code",
   "execution_count": 35,
   "metadata": {},
   "outputs": [
    {
     "data": {
      "text/plain": [
       "{'algorithm': 'auto',\n",
       " 'leaf_size': 30,\n",
       " 'metric': 'minkowski',\n",
       " 'metric_params': None,\n",
       " 'n_jobs': None,\n",
       " 'n_neighbors': 17,\n",
       " 'p': 2,\n",
       " 'weights': 'distance'}"
      ]
     },
     "execution_count": 35,
     "metadata": {},
     "output_type": "execute_result"
    }
   ],
   "source": [
    "ml.model.get_params()"
   ]
  },
  {
   "cell_type": "code",
   "execution_count": 36,
   "metadata": {},
   "outputs": [
    {
     "name": "stdout",
     "output_type": "stream",
     "text": [
      "Train RMSE: 0.0\n",
      "Test RMSE:  0.47609192326060523\n"
     ]
    }
   ],
   "source": [
    "pred_train = ml.predict(X_train)\n",
    "pred_test = ml.predict(X_test)\n",
    "print(f'Train RMSE: {ml.get_rmse(y_train, pred_train)}\\nTest RMSE:  {ml.get_rmse(y_test, pred_test)}')"
   ]
  },
  {
   "cell_type": "code",
   "execution_count": 14,
   "metadata": {},
   "outputs": [],
   "source": [
    "np.random.seed(510)\n",
    "ml = MachineLearning('knn')"
   ]
  },
  {
   "cell_type": "code",
   "execution_count": 15,
   "metadata": {},
   "outputs": [],
   "source": [
    "ml.fit(100, X_train, y_train, X_test, y_test, ('n_neighbors',1 , 18), ('weights', ['uniform', 'distance']))"
   ]
  },
  {
   "cell_type": "code",
   "execution_count": 16,
   "metadata": {},
   "outputs": [
    {
     "data": {
      "text/plain": [
       "{'algorithm': 'auto',\n",
       " 'leaf_size': 30,\n",
       " 'metric': 'minkowski',\n",
       " 'metric_params': None,\n",
       " 'n_jobs': None,\n",
       " 'n_neighbors': 18,\n",
       " 'p': 2,\n",
       " 'weights': 'distance'}"
      ]
     },
     "execution_count": 16,
     "metadata": {},
     "output_type": "execute_result"
    }
   ],
   "source": [
    "ml.model.get_params()"
   ]
  },
  {
   "cell_type": "code",
   "execution_count": 17,
   "metadata": {},
   "outputs": [
    {
     "name": "stdout",
     "output_type": "stream",
     "text": [
      "Train RMSE: 0.0\n",
      "Test RMSE:  0.4686815616466524\n"
     ]
    }
   ],
   "source": [
    "pred_train = ml.predict(X_train)\n",
    "pred_test = ml.predict(X_test)\n",
    "print(f'Train RMSE: {ml.get_rmse(y_train, pred_train)}\\nTest RMSE:  {ml.get_rmse(y_test, pred_test)}')"
   ]
  },
  {
   "cell_type": "code",
   "execution_count": 41,
   "metadata": {},
   "outputs": [],
   "source": [
    "ml = MachineLearning('knn')"
   ]
  },
  {
   "cell_type": "code",
   "execution_count": 42,
   "metadata": {},
   "outputs": [],
   "source": [
    "ml.fit(100, X_train, y_train, X_test, y_test, ('n_neighbors',1 , 19), ('weights', ['uniform', 'distance']))"
   ]
  },
  {
   "cell_type": "code",
   "execution_count": 43,
   "metadata": {},
   "outputs": [
    {
     "data": {
      "text/plain": [
       "{'algorithm': 'auto',\n",
       " 'leaf_size': 30,\n",
       " 'metric': 'minkowski',\n",
       " 'metric_params': None,\n",
       " 'n_jobs': None,\n",
       " 'n_neighbors': 19,\n",
       " 'p': 2,\n",
       " 'weights': 'distance'}"
      ]
     },
     "execution_count": 43,
     "metadata": {},
     "output_type": "execute_result"
    }
   ],
   "source": [
    "ml.model.get_params()"
   ]
  },
  {
   "cell_type": "code",
   "execution_count": 44,
   "metadata": {},
   "outputs": [
    {
     "name": "stdout",
     "output_type": "stream",
     "text": [
      "Train RMSE: 0.0\n",
      "Test RMSE:  0.4746736506339132\n"
     ]
    }
   ],
   "source": [
    "pred_train = ml.predict(X_train)\n",
    "pred_test = ml.predict(X_test)\n",
    "print(f'Train RMSE: {ml.get_rmse(y_train, pred_train)}\\nTest RMSE:  {ml.get_rmse(y_test, pred_test)}')"
   ]
  },
  {
   "cell_type": "code",
   "execution_count": 45,
   "metadata": {},
   "outputs": [],
   "source": [
    "ml = MachineLearning('knn')"
   ]
  },
  {
   "cell_type": "code",
   "execution_count": 46,
   "metadata": {},
   "outputs": [],
   "source": [
    "ml.fit(100, X_train, y_train, X_test, y_test, ('n_neighbors',1 , 20), ('weights', ['uniform', 'distance']))"
   ]
  },
  {
   "cell_type": "code",
   "execution_count": 47,
   "metadata": {},
   "outputs": [
    {
     "data": {
      "text/plain": [
       "{'algorithm': 'auto',\n",
       " 'leaf_size': 30,\n",
       " 'metric': 'minkowski',\n",
       " 'metric_params': None,\n",
       " 'n_jobs': None,\n",
       " 'n_neighbors': 20,\n",
       " 'p': 2,\n",
       " 'weights': 'distance'}"
      ]
     },
     "execution_count": 47,
     "metadata": {},
     "output_type": "execute_result"
    }
   ],
   "source": [
    "ml.model.get_params()"
   ]
  },
  {
   "cell_type": "code",
   "execution_count": 48,
   "metadata": {},
   "outputs": [
    {
     "name": "stdout",
     "output_type": "stream",
     "text": [
      "Train RMSE: 0.0\n",
      "Test RMSE:  0.47410731398884537\n"
     ]
    }
   ],
   "source": [
    "pred_train = ml.predict(X_train)\n",
    "pred_test = ml.predict(X_test)\n",
    "print(f'Train RMSE: {ml.get_rmse(y_train, pred_train)}\\nTest RMSE:  {ml.get_rmse(y_test, pred_test)}')"
   ]
  },
  {
   "cell_type": "code",
   "execution_count": 49,
   "metadata": {},
   "outputs": [],
   "source": [
    "#We choose the below model as the most appropriete (lowest train rmse)"
   ]
  },
  {
   "cell_type": "code",
   "execution_count": 50,
   "metadata": {},
   "outputs": [],
   "source": [
    "ml = MachineLearning('knn')\n",
    "ml.fit(100, X_train, y_train, X_test, y_test, ('n_neighbors', 1, 16), ('weights', ['uniform', 'distance']))"
   ]
  },
  {
   "cell_type": "markdown",
   "metadata": {},
   "source": [
    "Once we made up our mind with the model, we should save it by running this cell. Make sure you are saving the right model! I reran the first model in the cell above to save this particular version of KNN regressor"
   ]
  },
  {
   "cell_type": "code",
   "execution_count": 51,
   "metadata": {},
   "outputs": [],
   "source": [
    "ml.save()"
   ]
  },
  {
   "cell_type": "markdown",
   "metadata": {},
   "source": [
    "If you still have some issues with how the code works, you can use the help function to read the documentation"
   ]
  },
  {
   "cell_type": "code",
   "execution_count": 52,
   "metadata": {},
   "outputs": [
    {
     "name": "stdout",
     "output_type": "stream",
     "text": [
      "Help on method fit in module utils.machine_learning:\n",
      "\n",
      "fit(n_trials: int, X_train: numpy.ndarray, y_train: numpy.ndarray, X_test: numpy.ndarray, y_test: numpy.ndarray, *args) -> None method of utils.machine_learning.MachineLearning instance\n",
      "    Find optimal hyperparameters and fit the model\n",
      "    \n",
      "    ## Parameters\n",
      "    `n_trials` : int\n",
      "        Number of optimization iterations\n",
      "    \n",
      "    `X_train`, `y_train`, `X_test`, `y_test` : np.ndarray\n",
      "        Training and test datasets\n",
      "    \n",
      "    `*args` : tuple\n",
      "        Tuples containing hyperparameters and their values. If a hyperparameter is:\n",
      "        - Numeric, then the tuple passed is (hyperparameter_name, min, max)\n",
      "        - Categorical, then the tuple passed is (hyperparameter_name, [val_1, val_2, ..., val_n])\n",
      "\n"
     ]
    }
   ],
   "source": [
    "help(ml.fit)"
   ]
  },
  {
   "cell_type": "code",
   "execution_count": null,
   "metadata": {},
   "outputs": [],
   "source": []
  },
  {
   "cell_type": "code",
   "execution_count": null,
   "metadata": {},
   "outputs": [],
   "source": []
  }
 ],
 "metadata": {
  "kernelspec": {
   "display_name": "Python 3 (ipykernel)",
   "language": "python",
   "name": "python3"
  },
  "language_info": {
   "codemirror_mode": {
    "name": "ipython",
    "version": 3
   },
   "file_extension": ".py",
   "mimetype": "text/x-python",
   "name": "python",
   "nbconvert_exporter": "python",
   "pygments_lexer": "ipython3",
   "version": "3.8.13"
  },
  "vscode": {
   "interpreter": {
    "hash": "203e9959ca7ebbf0117ecf3e0dfde7f27540c9b63f49411d7f46e608c40da6fe"
   }
  }
 },
 "nbformat": 4,
 "nbformat_minor": 4
}

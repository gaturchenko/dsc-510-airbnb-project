{
 "cells": [
  {
   "cell_type": "code",
   "execution_count": 8,
   "metadata": {},
   "outputs": [],
   "source": [
    "import pandas as pd, pickle, os\n",
    "from sklearn.metrics import mean_absolute_error, mean_squared_error"
   ]
  },
  {
   "cell_type": "code",
   "execution_count": 21,
   "metadata": {},
   "outputs": [],
   "source": [
    "models = []\n",
    "directory = 'models'\n",
    "\n",
    "files = os.listdir(directory)\n",
    "files.pop(0)\n",
    "for file in files:\n",
    "    with open(f\"{directory}/{file}\", 'rb') as f:\n",
    "        models.append(pickle.load(f))"
   ]
  },
  {
   "cell_type": "code",
   "execution_count": 9,
   "metadata": {},
   "outputs": [],
   "source": [
    "data_sets = []\n",
    "directory = 'data'\n",
    "\n",
    "files = os.listdir(directory)\n",
    "files.sort()\n",
    "files.pop(files.index('AB_NYC_2019.csv'))\n",
    "files.pop(files.index('X_cluster.pkl'))\n",
    "for file in files:\n",
    "    with open(f\"{directory}/{file}\", 'rb') as f:\n",
    "        data_sets.append(pickle.load(f))\n",
    "X_test, X_train, y_test, y_train = data_sets[0], data_sets[1], data_sets[2], data_sets[3]"
   ]
  },
  {
   "cell_type": "code",
   "execution_count": 23,
   "metadata": {},
   "outputs": [],
   "source": [
    "rmse_train = []\n",
    "mae_train = []\n",
    "rmse_test = []\n",
    "mae_test = []\n",
    "\n",
    "for model in models:\n",
    "    rmse_train.append(mean_squared_error(y_train, model.predict(X_train), squared=False))\n",
    "    mae_train.append(mean_absolute_error(y_train, model.predict(X_train)))\n",
    "    rmse_test.append(mean_squared_error(y_test, model.predict(X_test), squared=False))\n",
    "    mae_test.append(mean_absolute_error(y_test, model.predict(X_test)))"
   ]
  },
  {
   "cell_type": "code",
   "execution_count": 40,
   "metadata": {},
   "outputs": [
    {
     "data": {
      "text/html": [
       "<div>\n",
       "<style scoped>\n",
       "    .dataframe tbody tr th:only-of-type {\n",
       "        vertical-align: middle;\n",
       "    }\n",
       "\n",
       "    .dataframe tbody tr th {\n",
       "        vertical-align: top;\n",
       "    }\n",
       "\n",
       "    .dataframe thead th {\n",
       "        text-align: right;\n",
       "    }\n",
       "</style>\n",
       "<table border=\"1\" class=\"dataframe\">\n",
       "  <thead>\n",
       "    <tr style=\"text-align: right;\">\n",
       "      <th></th>\n",
       "      <th>Model</th>\n",
       "      <th>RMSE Train</th>\n",
       "      <th>MAE Train</th>\n",
       "      <th>RMSE Test</th>\n",
       "      <th>MAE Test</th>\n",
       "    </tr>\n",
       "  </thead>\n",
       "  <tbody>\n",
       "    <tr>\n",
       "      <th>0</th>\n",
       "      <td>Linear Regression</td>\n",
       "      <td>0.474654</td>\n",
       "      <td>0.346350</td>\n",
       "      <td>0.477684</td>\n",
       "      <td>0.349773</td>\n",
       "    </tr>\n",
       "    <tr>\n",
       "      <th>1</th>\n",
       "      <td>KNN</td>\n",
       "      <td>0.000000</td>\n",
       "      <td>0.000000</td>\n",
       "      <td>0.469519</td>\n",
       "      <td>0.342713</td>\n",
       "    </tr>\n",
       "    <tr>\n",
       "      <th>2</th>\n",
       "      <td>Decision Tree</td>\n",
       "      <td>0.441885</td>\n",
       "      <td>0.323744</td>\n",
       "      <td>0.467302</td>\n",
       "      <td>0.341055</td>\n",
       "    </tr>\n",
       "    <tr>\n",
       "      <th>3</th>\n",
       "      <td>Random Forest</td>\n",
       "      <td>0.327813</td>\n",
       "      <td>0.243719</td>\n",
       "      <td>0.451461</td>\n",
       "      <td>0.327928</td>\n",
       "    </tr>\n",
       "    <tr>\n",
       "      <th>4</th>\n",
       "      <td>Gradient Boosting</td>\n",
       "      <td>0.432106</td>\n",
       "      <td>0.314668</td>\n",
       "      <td>0.454379</td>\n",
       "      <td>0.331341</td>\n",
       "    </tr>\n",
       "  </tbody>\n",
       "</table>\n",
       "</div>"
      ],
      "text/plain": [
       "               Model  RMSE Train  MAE Train  RMSE Test  MAE Test\n",
       "0  Linear Regression    0.474654   0.346350   0.477684  0.349773\n",
       "1                KNN    0.000000   0.000000   0.469519  0.342713\n",
       "2      Decision Tree    0.441885   0.323744   0.467302  0.341055\n",
       "3      Random Forest    0.327813   0.243719   0.451461  0.327928\n",
       "4  Gradient Boosting    0.432106   0.314668   0.454379  0.331341"
      ]
     },
     "execution_count": 40,
     "metadata": {},
     "output_type": "execute_result"
    }
   ],
   "source": [
    "models_labels = ['Random Forest', 'KNN', 'Linear Regression', 'Decision Tree', 'Gradient Boosting']\n",
    "\n",
    "df = pd.DataFrame({'RMSE Train': rmse_train, 'MAE Train': mae_train, 'RMSE Test': rmse_test, 'MAE Test': mae_test}, index=models_labels)\n",
    "df = df.reindex(['Linear Regression', 'KNN', 'Decision Tree', 'Random Forest', 'Gradient Boosting'])\n",
    "df.reset_index(inplace=True)\n",
    "df = df.rename(columns={'index': 'Model'})\n",
    "df"
   ]
  },
  {
   "cell_type": "code",
   "execution_count": 42,
   "metadata": {},
   "outputs": [],
   "source": [
    "df.to_clipboard()"
   ]
  },
  {
   "cell_type": "code",
   "execution_count": 48,
   "metadata": {},
   "outputs": [
    {
     "name": "stdout",
     "output_type": "stream",
     "text": [
      "RandomForestRegressor(max_depth=15, max_features='sqrt', n_estimators=700)\n",
      "{'bootstrap': True, 'ccp_alpha': 0.0, 'criterion': 'squared_error', 'max_depth': 15, 'max_features': 'sqrt', 'max_leaf_nodes': None, 'max_samples': None, 'min_impurity_decrease': 0.0, 'min_samples_leaf': 1, 'min_samples_split': 2, 'min_weight_fraction_leaf': 0.0, 'n_estimators': 700, 'n_jobs': None, 'oob_score': False, 'random_state': None, 'verbose': 0, 'warm_start': False}\n",
      "\n",
      "KNeighborsRegressor(n_neighbors=16, weights='distance')\n",
      "{'algorithm': 'auto', 'leaf_size': 30, 'metric': 'minkowski', 'metric_params': None, 'n_jobs': None, 'n_neighbors': 16, 'p': 2, 'weights': 'distance'}\n",
      "\n",
      "LinearRegression()\n",
      "{'copy_X': True, 'fit_intercept': True, 'n_jobs': None, 'normalize': 'deprecated', 'positive': False}\n",
      "\n",
      "DecisionTreeRegressor(max_depth=9, max_features='auto', min_samples_leaf=10,\n",
      "                      min_samples_split=25)\n",
      "{'ccp_alpha': 0.0, 'criterion': 'squared_error', 'max_depth': 9, 'max_features': 'auto', 'max_leaf_nodes': None, 'min_impurity_decrease': 0.0, 'min_samples_leaf': 10, 'min_samples_split': 25, 'min_weight_fraction_leaf': 0.0, 'random_state': None, 'splitter': 'best'}\n",
      "\n",
      "GradientBoostingRegressor(max_depth=6, max_features='sqrt', min_samples_leaf=9,\n",
      "                          min_samples_split=9, n_estimators=500,\n",
      "                          n_iter_no_change=10, validation_fraction=0.25)\n",
      "{'alpha': 0.9, 'ccp_alpha': 0.0, 'criterion': 'friedman_mse', 'init': None, 'learning_rate': 0.1, 'loss': 'squared_error', 'max_depth': 6, 'max_features': 'sqrt', 'max_leaf_nodes': None, 'min_impurity_decrease': 0.0, 'min_samples_leaf': 9, 'min_samples_split': 9, 'min_weight_fraction_leaf': 0.0, 'n_estimators': 500, 'n_iter_no_change': 10, 'random_state': None, 'subsample': 1.0, 'tol': 0.0001, 'validation_fraction': 0.25, 'verbose': 0, 'warm_start': False}\n",
      "\n"
     ]
    }
   ],
   "source": [
    "for model in models:\n",
    "    print(model)\n",
    "    print(model.get_params())\n",
    "    print()"
   ]
  },
  {
   "cell_type": "code",
   "execution_count": null,
   "metadata": {},
   "outputs": [],
   "source": []
  }
 ],
 "metadata": {
  "kernelspec": {
   "display_name": "Python 3.8.13",
   "language": "python",
   "name": "python3"
  },
  "language_info": {
   "codemirror_mode": {
    "name": "ipython",
    "version": 3
   },
   "file_extension": ".py",
   "mimetype": "text/x-python",
   "name": "python",
   "nbconvert_exporter": "python",
   "pygments_lexer": "ipython3",
   "version": "3.8.13"
  },
  "orig_nbformat": 4,
  "vscode": {
   "interpreter": {
    "hash": "203e9959ca7ebbf0117ecf3e0dfde7f27540c9b63f49411d7f46e608c40da6fe"
   }
  }
 },
 "nbformat": 4,
 "nbformat_minor": 2
}

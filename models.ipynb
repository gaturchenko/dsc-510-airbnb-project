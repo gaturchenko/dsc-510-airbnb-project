{
 "cells": [
  {
   "cell_type": "code",
   "execution_count": 1,
   "metadata": {},
   "outputs": [],
   "source": [
    "import pandas as pd, pickle, os\n",
    "from sklearn.metrics import mean_absolute_error, mean_squared_error, r2_score"
   ]
  },
  {
   "cell_type": "code",
   "execution_count": 2,
   "metadata": {},
   "outputs": [],
   "source": [
    "models = []\n",
    "directory = 'models'\n",
    "\n",
    "files = os.listdir(directory)\n",
    "files.pop(0)\n",
    "for file in files:\n",
    "    with open(f\"{directory}/{file}\", 'rb') as f:\n",
    "        models.append(pickle.load(f))"
   ]
  },
  {
   "cell_type": "code",
   "execution_count": 3,
   "metadata": {},
   "outputs": [],
   "source": [
    "data_sets = []\n",
    "directory = 'data'\n",
    "\n",
    "files = os.listdir(directory)\n",
    "files.sort()\n",
    "files.pop(files.index('AB_NYC_2019.csv'))\n",
    "files.pop(files.index('X_cluster.pkl'))\n",
    "for file in files:\n",
    "    with open(f\"{directory}/{file}\", 'rb') as f:\n",
    "        data_sets.append(pickle.load(f))\n",
    "X_test, X_train, y_test, y_train = data_sets[0], data_sets[1], data_sets[2], data_sets[3]"
   ]
  },
  {
   "cell_type": "code",
   "execution_count": 4,
   "metadata": {},
   "outputs": [],
   "source": [
    "rmse_train = []\n",
    "mae_train = []\n",
    "r2_train = []\n",
    "rmse_test = []\n",
    "mae_test = []\n",
    "r2_test = []\n",
    "\n",
    "for model in models:\n",
    "    rmse_train.append(mean_squared_error(y_train, model.predict(X_train), squared=False))\n",
    "    mae_train.append(mean_absolute_error(y_train, model.predict(X_train)))\n",
    "    r2_train.append(r2_score(y_train, model.predict(X_train)))\n",
    "    rmse_test.append(mean_squared_error(y_test, model.predict(X_test), squared=False))\n",
    "    mae_test.append(mean_absolute_error(y_test, model.predict(X_test)))\n",
    "    r2_test.append(r2_score(y_test, model.predict(X_test)))"
   ]
  },
  {
   "cell_type": "code",
   "execution_count": 5,
   "metadata": {},
   "outputs": [
    {
     "data": {
      "text/html": [
       "<div>\n",
       "<style scoped>\n",
       "    .dataframe tbody tr th:only-of-type {\n",
       "        vertical-align: middle;\n",
       "    }\n",
       "\n",
       "    .dataframe tbody tr th {\n",
       "        vertical-align: top;\n",
       "    }\n",
       "\n",
       "    .dataframe thead th {\n",
       "        text-align: right;\n",
       "    }\n",
       "</style>\n",
       "<table border=\"1\" class=\"dataframe\">\n",
       "  <thead>\n",
       "    <tr style=\"text-align: right;\">\n",
       "      <th></th>\n",
       "      <th>Model</th>\n",
       "      <th>RMSE Train</th>\n",
       "      <th>MAE Train</th>\n",
       "      <th>R2 Train</th>\n",
       "      <th>RMSE Test</th>\n",
       "      <th>MAE Test</th>\n",
       "      <th>R2 Test</th>\n",
       "    </tr>\n",
       "  </thead>\n",
       "  <tbody>\n",
       "    <tr>\n",
       "      <th>0</th>\n",
       "      <td>Linear Regression</td>\n",
       "      <td>0.474318</td>\n",
       "      <td>0.347314</td>\n",
       "      <td>0.504455</td>\n",
       "      <td>0.478767</td>\n",
       "      <td>0.346924</td>\n",
       "      <td>0.495422</td>\n",
       "    </tr>\n",
       "    <tr>\n",
       "      <th>1</th>\n",
       "      <td>KNN</td>\n",
       "      <td>0.212499</td>\n",
       "      <td>0.075918</td>\n",
       "      <td>0.900538</td>\n",
       "      <td>0.292815</td>\n",
       "      <td>0.137575</td>\n",
       "      <td>0.811259</td>\n",
       "    </tr>\n",
       "    <tr>\n",
       "      <th>2</th>\n",
       "      <td>Decision Tree</td>\n",
       "      <td>0.445186</td>\n",
       "      <td>0.327037</td>\n",
       "      <td>0.563458</td>\n",
       "      <td>0.457881</td>\n",
       "      <td>0.331211</td>\n",
       "      <td>0.538485</td>\n",
       "    </tr>\n",
       "    <tr>\n",
       "      <th>3</th>\n",
       "      <td>Random Forest</td>\n",
       "      <td>0.355391</td>\n",
       "      <td>0.260673</td>\n",
       "      <td>0.721801</td>\n",
       "      <td>0.384701</td>\n",
       "      <td>0.277558</td>\n",
       "      <td>0.674219</td>\n",
       "    </tr>\n",
       "    <tr>\n",
       "      <th>4</th>\n",
       "      <td>Gradient Boosting</td>\n",
       "      <td>0.435083</td>\n",
       "      <td>0.318018</td>\n",
       "      <td>0.583047</td>\n",
       "      <td>0.446153</td>\n",
       "      <td>0.321546</td>\n",
       "      <td>0.561826</td>\n",
       "    </tr>\n",
       "  </tbody>\n",
       "</table>\n",
       "</div>"
      ],
      "text/plain": [
       "               Model  RMSE Train  MAE Train  R2 Train  RMSE Test  MAE Test  \\\n",
       "0  Linear Regression    0.474318   0.347314  0.504455   0.478767  0.346924   \n",
       "1                KNN    0.212499   0.075918  0.900538   0.292815  0.137575   \n",
       "2      Decision Tree    0.445186   0.327037  0.563458   0.457881  0.331211   \n",
       "3      Random Forest    0.355391   0.260673  0.721801   0.384701  0.277558   \n",
       "4  Gradient Boosting    0.435083   0.318018  0.583047   0.446153  0.321546   \n",
       "\n",
       "    R2 Test  \n",
       "0  0.495422  \n",
       "1  0.811259  \n",
       "2  0.538485  \n",
       "3  0.674219  \n",
       "4  0.561826  "
      ]
     },
     "execution_count": 5,
     "metadata": {},
     "output_type": "execute_result"
    }
   ],
   "source": [
    "models_labels = ['Random Forest', 'KNN', 'Linear Regression', 'Decision Tree', 'Gradient Boosting']\n",
    "\n",
    "df = pd.DataFrame({'RMSE Train': rmse_train, 'MAE Train': mae_train, 'R2 Train': r2_train, 'RMSE Test': rmse_test, 'MAE Test': mae_test, 'R2 Test': r2_test}, index=models_labels)\n",
    "df = df.reindex(['Linear Regression', 'KNN', 'Decision Tree', 'Random Forest', 'Gradient Boosting'])\n",
    "df.reset_index(inplace=True)\n",
    "df = df.rename(columns={'index': 'Model'})\n",
    "df"
   ]
  },
  {
   "cell_type": "code",
   "execution_count": null,
   "metadata": {},
   "outputs": [],
   "source": []
  }
 ],
 "metadata": {
  "kernelspec": {
   "display_name": "Python 3.8.13",
   "language": "python",
   "name": "python3"
  },
  "language_info": {
   "codemirror_mode": {
    "name": "ipython",
    "version": 3
   },
   "file_extension": ".py",
   "mimetype": "text/x-python",
   "name": "python",
   "nbconvert_exporter": "python",
   "pygments_lexer": "ipython3",
   "version": "3.8.13"
  },
  "orig_nbformat": 4,
  "vscode": {
   "interpreter": {
    "hash": "203e9959ca7ebbf0117ecf3e0dfde7f27540c9b63f49411d7f46e608c40da6fe"
   }
  }
 },
 "nbformat": 4,
 "nbformat_minor": 2
}
